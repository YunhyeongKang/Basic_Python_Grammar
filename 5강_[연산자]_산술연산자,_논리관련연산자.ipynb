{
  "nbformat": 4,
  "nbformat_minor": 0,
  "metadata": {
    "colab": {
      "provenance": [],
      "authorship_tag": "ABX9TyOsPpUHdM992GS0ZvwoNb4R",
      "include_colab_link": true
    },
    "kernelspec": {
      "name": "python3",
      "display_name": "Python 3"
    },
    "language_info": {
      "name": "python"
    }
  },
  "cells": [
    {
      "cell_type": "markdown",
      "metadata": {
        "id": "view-in-github",
        "colab_type": "text"
      },
      "source": [
        "<a href=\"https://colab.research.google.com/github/YunhyeongKang/Basic_Grammar/blob/Python/5%EA%B0%95_%5B%EC%97%B0%EC%82%B0%EC%9E%90%5D_%EC%82%B0%EC%88%A0%EC%97%B0%EC%82%B0%EC%9E%90%2C_%EB%85%BC%EB%A6%AC%EA%B4%80%EB%A0%A8%EC%97%B0%EC%82%B0%EC%9E%90.ipynb\" target=\"_parent\"><img src=\"https://colab.research.google.com/assets/colab-badge.svg\" alt=\"Open In Colab\"/></a>"
      ]
    },
    {
      "cell_type": "markdown",
      "source": [
        "# **9. 산술연산자**\n",
        "\n",
        "대표적인 산술연산자에는 더하기(+), 빼기(-), 곱하기(*), 나누기(/)가 있다.\n",
        "\n",
        "**1) 더하기(+)**\n",
        "\n",
        "더하기 연산자는 +를 사용한다.\n",
        "\n",
        "'n1 = n1 + 2'와 같은 경우에는 'n1 += 2'로 간소화할 수 있다."
      ],
      "metadata": {
        "id": "JAjj9a1yr0Nh"
      }
    },
    {
      "cell_type": "code",
      "source": [
        "n1 = 10\n",
        "n2 = 5\n",
        "\n",
        "result = n1 + n2\n",
        "print(result)"
      ],
      "metadata": {
        "colab": {
          "base_uri": "https://localhost:8080/"
        },
        "id": "UaBiqN4wswi2",
        "outputId": "d1f60fd9-78bc-48ac-aa0f-0a2498b6c1fc"
      },
      "execution_count": null,
      "outputs": [
        {
          "output_type": "stream",
          "name": "stdout",
          "text": [
            "15\n"
          ]
        }
      ]
    },
    {
      "cell_type": "code",
      "source": [
        "n1 = 10\n",
        "n1 += 3\n",
        "\n",
        "print(n1)"
      ],
      "metadata": {
        "colab": {
          "base_uri": "https://localhost:8080/"
        },
        "id": "g_Cx-m_Vs-2m",
        "outputId": "ea22b841-6ee8-4cde-9640-91cd570b47e9"
      },
      "execution_count": null,
      "outputs": [
        {
          "output_type": "stream",
          "name": "stdout",
          "text": [
            "13\n"
          ]
        }
      ]
    },
    {
      "cell_type": "markdown",
      "source": [
        "***Application)***"
      ],
      "metadata": {
        "id": "vea7MVQUtORw"
      }
    },
    {
      "cell_type": "code",
      "source": [
        "n1 = 10\n",
        "for i in range(0, 10) :\n",
        "  n1 += 2\n",
        "\n",
        "print(n1)"
      ],
      "metadata": {
        "colab": {
          "base_uri": "https://localhost:8080/"
        },
        "id": "RizXVKQjtE5f",
        "outputId": "d8c54e21-dbf9-4c01-bb0a-a9be44cfdeb7"
      },
      "execution_count": null,
      "outputs": [
        {
          "output_type": "stream",
          "name": "stdout",
          "text": [
            "30\n"
          ]
        }
      ]
    },
    {
      "cell_type": "markdown",
      "source": [
        "**2) 빼기(-)**\n",
        "\n",
        "빼기 연산자는 -를 사용한다.\n",
        "\n",
        "'n1 = n1 - 2'와 같은 경우에는 'n1 -= 2'로 간소화할 수 있다."
      ],
      "metadata": {
        "id": "gKONoGGntapF"
      }
    },
    {
      "cell_type": "code",
      "source": [
        "n1 = 10\n",
        "n2 = 5\n",
        "result = n1 - n2\n",
        "print(result)"
      ],
      "metadata": {
        "colab": {
          "base_uri": "https://localhost:8080/"
        },
        "id": "H_6_D8PJtsM4",
        "outputId": "76f2df0e-1c1c-4ffb-f5cd-9a573bf1ce5d"
      },
      "execution_count": 3,
      "outputs": [
        {
          "output_type": "stream",
          "name": "stdout",
          "text": [
            "5\n"
          ]
        }
      ]
    },
    {
      "cell_type": "code",
      "source": [
        "n1 = 10\n",
        "n1 -= 3\n",
        "print(n1)"
      ],
      "metadata": {
        "colab": {
          "base_uri": "https://localhost:8080/"
        },
        "id": "lNAfB9UltzGd",
        "outputId": "1ddc4918-dec1-4393-d6ce-e3f67eaa3b70"
      },
      "execution_count": null,
      "outputs": [
        {
          "output_type": "stream",
          "name": "stdout",
          "text": [
            "7\n"
          ]
        }
      ]
    },
    {
      "cell_type": "markdown",
      "source": [
        "**3) 곱하기(*)**\n",
        "\n",
        "곱하기 연산자는 *을 사용한다.\n",
        "\n",
        "'n1 = n1 * 2'와 같은 경우, 'n1 *= 2'로 간소화할 수 있다."
      ],
      "metadata": {
        "id": "nVyL-uIIt_PK"
      }
    },
    {
      "cell_type": "code",
      "source": [
        "n1 = 10\n",
        "n2 = 5\n",
        "result = n1 * n2\n",
        "print(result)"
      ],
      "metadata": {
        "colab": {
          "base_uri": "https://localhost:8080/"
        },
        "id": "kuUItfoFuYHn",
        "outputId": "7d791f48-05f0-43b1-ddfa-04a0f5b3992b"
      },
      "execution_count": null,
      "outputs": [
        {
          "output_type": "stream",
          "name": "stdout",
          "text": [
            "50\n"
          ]
        }
      ]
    },
    {
      "cell_type": "code",
      "source": [
        "n1 = 10\n",
        "n1 *= 2\n",
        "print(n1)"
      ],
      "metadata": {
        "colab": {
          "base_uri": "https://localhost:8080/"
        },
        "id": "KCcWnRVKuh3X",
        "outputId": "323a9c49-5aa4-4360-f1cb-d867535a4de0"
      },
      "execution_count": null,
      "outputs": [
        {
          "output_type": "stream",
          "name": "stdout",
          "text": [
            "20\n"
          ]
        }
      ]
    },
    {
      "cell_type": "markdown",
      "source": [
        "**4) 나누기(/)**\n",
        "\n",
        "나누기 연산자는 /를 사용한다.\n",
        "\n",
        "'n1 = n1 / 2'와 같은 경우에는 'n1 /= 2'로 간소화할 수 있다."
      ],
      "metadata": {
        "id": "ugEHoUdouuIV"
      }
    },
    {
      "cell_type": "code",
      "source": [
        "n1 = 10\n",
        "n2 = 5\n",
        "result = n1 / n2\n",
        "print(result)"
      ],
      "metadata": {
        "colab": {
          "base_uri": "https://localhost:8080/"
        },
        "id": "9BsdKTdku7jb",
        "outputId": "c1e381f5-7fe5-4467-e9bc-6477d90491e7"
      },
      "execution_count": null,
      "outputs": [
        {
          "output_type": "stream",
          "name": "stdout",
          "text": [
            "2.0\n"
          ]
        }
      ]
    },
    {
      "cell_type": "code",
      "source": [
        "n1 = 10\n",
        "n1 /= 2\n",
        "print(n1)"
      ],
      "metadata": {
        "colab": {
          "base_uri": "https://localhost:8080/"
        },
        "id": "6FQEOr2WvDaa",
        "outputId": "01d02e02-8ca5-4bc1-f5c7-fd6476548bb7"
      },
      "execution_count": null,
      "outputs": [
        {
          "output_type": "stream",
          "name": "stdout",
          "text": [
            "5.0\n"
          ]
        }
      ]
    },
    {
      "cell_type": "markdown",
      "source": [
        "**5) 산술연산자 우선순위**\n",
        "\n",
        "*   더하기와 빼기 연산자의 우선순위는 같다. (순서를 바꾸어도 결과가 동일)\n",
        "*   곱하기와 나누기 연산자의 우선순위는 같다. (순서를 바꾸어도 결과가 동일)\n",
        "*   모두 혼합되어 있는 경우에는 더하기, 빼기보다 곱하기, 나누기가 우선시 된다."
      ],
      "metadata": {
        "id": "OVATPk7wvKd0"
      }
    },
    {
      "cell_type": "code",
      "source": [
        "n1 = 10\n",
        "n2 = 5\n",
        "n3 = 3\n",
        "result1 = n1 + n2 - n3\n",
        "result2 = n2 - n3 + n1\n",
        "print(result1,result2)"
      ],
      "metadata": {
        "colab": {
          "base_uri": "https://localhost:8080/"
        },
        "id": "jp8lEFZIvjgD",
        "outputId": "d28b3b34-8ca7-4230-fa6c-0fa6d90d755d"
      },
      "execution_count": null,
      "outputs": [
        {
          "output_type": "stream",
          "name": "stdout",
          "text": [
            "12 12\n"
          ]
        }
      ]
    },
    {
      "cell_type": "code",
      "source": [
        "n1 = 10\n",
        "n2 = 5\n",
        "n3 = 2\n",
        "result1 = n3 / n1 * n2\n",
        "result2 = n2 * n3 / n1\n",
        "print(result1, result2)"
      ],
      "metadata": {
        "colab": {
          "base_uri": "https://localhost:8080/"
        },
        "id": "2v5uFbuMv8rM",
        "outputId": "dd6ebdb4-98fc-4c94-afcb-e9b58dfa33df"
      },
      "execution_count": null,
      "outputs": [
        {
          "output_type": "stream",
          "name": "stdout",
          "text": [
            "1.0 1.0\n"
          ]
        }
      ]
    },
    {
      "cell_type": "code",
      "source": [
        "n1 = 10\n",
        "n2 = 5\n",
        "n3 = 2\n",
        "result1 = n2 * n3 + n1\n",
        "result2 = n2 + n1 * n3\n",
        "result3 = (n2 + n1) * n3\n",
        "print(result1, result2, result3)"
      ],
      "metadata": {
        "colab": {
          "base_uri": "https://localhost:8080/"
        },
        "id": "RD9cWT4PxzTB",
        "outputId": "4d84c2c0-899f-4977-a88d-eefa966a73c8"
      },
      "execution_count": null,
      "outputs": [
        {
          "output_type": "stream",
          "name": "stdout",
          "text": [
            "20 25 30\n"
          ]
        }
      ]
    },
    {
      "cell_type": "markdown",
      "source": [
        "**6) 몫(//)**\n",
        "\n",
        "'//' 연산자는 나누기의 결과가 소수가 나올 때, 소수점을 버리고 **몫만 반환**한다.\n",
        "\n",
        "'n1 = n1 // 2'와 같은 경우, 'n1 //= n2'로 간소화할 수 있다."
      ],
      "metadata": {
        "id": "yoLPaum_yRsJ"
      }
    },
    {
      "cell_type": "code",
      "source": [
        "n1 = 10\n",
        "n2 = 3\n",
        "result = n1 // n2\n",
        "print(result)"
      ],
      "metadata": {
        "colab": {
          "base_uri": "https://localhost:8080/"
        },
        "id": "ZpFev7PgGl4t",
        "outputId": "c32e6bea-0f3e-49a1-f868-af88a0565def"
      },
      "execution_count": 1,
      "outputs": [
        {
          "output_type": "stream",
          "name": "stdout",
          "text": [
            "3\n"
          ]
        }
      ]
    },
    {
      "cell_type": "markdown",
      "source": [
        "**7) 나머지(%)**\n",
        "\n",
        "'%' 연산자는 나누기의 결과가 소수가 나올 때, **나머지만 출력**한다.\n",
        "\n",
        "'n1 = n1 % 2'와 같은 경우, 'n1 %= 2'로 간소화할 수 있다."
      ],
      "metadata": {
        "id": "uRCb0H8gG0HT"
      }
    },
    {
      "cell_type": "code",
      "source": [
        "n1 = 10\n",
        "n2 = 3\n",
        "result = n1 % n2\n",
        "print(result)"
      ],
      "metadata": {
        "colab": {
          "base_uri": "https://localhost:8080/"
        },
        "id": "G6ik8MsqHLSH",
        "outputId": "59b2c3a9-aae3-4bc7-e05e-d901136cbb1e"
      },
      "execution_count": 2,
      "outputs": [
        {
          "output_type": "stream",
          "name": "stdout",
          "text": [
            "1\n"
          ]
        }
      ]
    },
    {
      "cell_type": "markdown",
      "source": [
        "**8) 제곱(* *)**\n",
        "\n",
        "'**'는 제곱 연산자를 출력한다.\n",
        "\n",
        "'n1 = n1 ** 2'와 같은 경우, 'n1 **= 2'로 간소화할 수 있다."
      ],
      "metadata": {
        "id": "Ifsq36igHq66"
      }
    },
    {
      "cell_type": "code",
      "source": [
        "n1 = 3\n",
        "n2 = 2\n",
        "result = n1 ** n2\n",
        "print(result)"
      ],
      "metadata": {
        "colab": {
          "base_uri": "https://localhost:8080/"
        },
        "id": "keBraqPTIesD",
        "outputId": "789de48a-989f-484f-e73a-e0fda7cfc474"
      },
      "execution_count": 4,
      "outputs": [
        {
          "output_type": "stream",
          "name": "stdout",
          "text": [
            "9\n"
          ]
        }
      ]
    },
    {
      "cell_type": "markdown",
      "source": [
        "# **10. 대입연산자(=)**\n",
        "\n",
        "대입연산자는 오른쪽의 값이나 계산 결과는 왼쪽에 대입하라는 의미로 '='을 사용한다.\n",
        "\n",
        "=을 기준으로 오른쪽은 숫자, 수식, 문자열, 계산식 등 문법이 틀리지 않는다면 무엇이든 올 수 있다.\n",
        "\n",
        "왼쪽은 반드시 변수 1개만 있어야한다."
      ],
      "metadata": {
        "id": "Jx4PCCt5I4K-"
      }
    },
    {
      "cell_type": "code",
      "source": [
        "n = 100\n",
        "print(n)\n",
        "n = 100 + 200\n",
        "print(n)\n",
        "n = \"Hi\" + \"Hello\"\n",
        "print(n)"
      ],
      "metadata": {
        "colab": {
          "base_uri": "https://localhost:8080/"
        },
        "id": "r7oNdpuXJXLM",
        "outputId": "b6b8f632-a02a-4040-e33d-bd0f1b5f4b9b"
      },
      "execution_count": 5,
      "outputs": [
        {
          "output_type": "stream",
          "name": "stdout",
          "text": [
            "100\n",
            "300\n",
            "HiHello\n"
          ]
        }
      ]
    },
    {
      "cell_type": "markdown",
      "source": [
        "콤마(,)로 분리하면 왼쪽의 변수가 2개 이상 지정 가능하다. 단, 오른쪽에도 콤마로 구분하여 동일한 수의 숫자, 수식, 문자열을 넣어주어야 한다."
      ],
      "metadata": {
        "id": "2CDL_JcmJrcw"
      }
    },
    {
      "cell_type": "code",
      "source": [
        "n1,n2 = 100,200\n",
        "print(n1)\n",
        "print(n2)\n",
        "\n",
        "n1,n2 = 100+200,100*200\n",
        "print(n1)\n",
        "print(n2)\n",
        "\n",
        "n1,n2 = \"Hi\"+\"Hello\",\"Hi\"*3\n",
        "print(n1)\n",
        "print(n2)"
      ],
      "metadata": {
        "colab": {
          "base_uri": "https://localhost:8080/"
        },
        "id": "OV6jUikQKE5f",
        "outputId": "cd16882a-bc9b-4eab-bada-9c4c960e6ac9"
      },
      "execution_count": 6,
      "outputs": [
        {
          "output_type": "stream",
          "name": "stdout",
          "text": [
            "100\n",
            "200\n",
            "300\n",
            "20000\n",
            "HiHello\n",
            "HiHiHi\n"
          ]
        }
      ]
    },
    {
      "cell_type": "code",
      "source": [
        "n1, n2, n3 = 2, 3, 6\n",
        "print(n1, n2, n3)"
      ],
      "metadata": {
        "colab": {
          "base_uri": "https://localhost:8080/"
        },
        "id": "SR-mMkQDKck5",
        "outputId": "46b78be0-fd13-4f02-8b92-f016ad85364d"
      },
      "execution_count": 7,
      "outputs": [
        {
          "output_type": "stream",
          "name": "stdout",
          "text": [
            "2 3 6\n"
          ]
        }
      ]
    },
    {
      "cell_type": "markdown",
      "source": [
        "# **11. 비교연산자**\n",
        "\n",
        "비교연산자는 어떤 것이 같은지, 같지 않은지, 큰지, 작은지, 크거나 같은지, 작거나 같은지를 비교한다.\n",
        "\n",
        "그 결과는 **참(True) 또는 거짓(False)**이 된다.(i.e. 불형 결과물이 나옴)"
      ],
      "metadata": {
        "id": "edoDwJdeKjWN"
      }
    },
    {
      "cell_type": "markdown",
      "source": [
        "**1) 같다(==)**"
      ],
      "metadata": {
        "id": "QuPNa4U6LDIQ"
      }
    },
    {
      "cell_type": "code",
      "source": [
        "print(2 == 2)\n",
        "print(2 == 3)\n",
        "print(2 == (3-1))\n",
        "print(\"Hello\" == \"Hello\")\n",
        "print(\"Hi\" == \"Hello\")"
      ],
      "metadata": {
        "colab": {
          "base_uri": "https://localhost:8080/"
        },
        "id": "d2JYdB1qKuif",
        "outputId": "9be201db-8442-47f5-e810-4f8087fc69e2"
      },
      "execution_count": 12,
      "outputs": [
        {
          "output_type": "stream",
          "name": "stdout",
          "text": [
            "True\n",
            "False\n",
            "True\n",
            "True\n",
            "False\n"
          ]
        }
      ]
    },
    {
      "cell_type": "markdown",
      "source": [
        "**2) 같지 않다(!=)**"
      ],
      "metadata": {
        "id": "jEBwKSxqLlGb"
      }
    },
    {
      "cell_type": "code",
      "source": [
        "print(2 != 3)\n",
        "print(3 != 3)"
      ],
      "metadata": {
        "colab": {
          "base_uri": "https://localhost:8080/"
        },
        "id": "ENYmM2HdLrSD",
        "outputId": "59e41bc3-d099-42d0-e8b5-43888cf70569"
      },
      "execution_count": 14,
      "outputs": [
        {
          "output_type": "stream",
          "name": "stdout",
          "text": [
            "True\n",
            "False\n"
          ]
        }
      ]
    },
    {
      "cell_type": "markdown",
      "source": [
        "**3) 크다, 작다 (>, <)**"
      ],
      "metadata": {
        "id": "OLLKt44dL1ry"
      }
    },
    {
      "cell_type": "code",
      "source": [
        "print(3>2)\n",
        "print(2>3)\n",
        "print(2<3)"
      ],
      "metadata": {
        "colab": {
          "base_uri": "https://localhost:8080/"
        },
        "id": "YEPJEYihL7lI",
        "outputId": "e2f84331-0584-42c9-a718-254e1bb23eac"
      },
      "execution_count": 15,
      "outputs": [
        {
          "output_type": "stream",
          "name": "stdout",
          "text": [
            "True\n",
            "False\n",
            "True\n"
          ]
        }
      ]
    },
    {
      "cell_type": "markdown",
      "source": [
        "**4) 크거나 같다, 작거나 같다 (>=, <=)**"
      ],
      "metadata": {
        "id": "TE50J6y2MKlK"
      }
    },
    {
      "cell_type": "code",
      "source": [
        "print(10 >= 9)\n",
        "print(10 >= 10)\n",
        "print(9 <= 10)"
      ],
      "metadata": {
        "colab": {
          "base_uri": "https://localhost:8080/"
        },
        "id": "V4l_a9_oMS6E",
        "outputId": "ab82e4e4-9e26-4439-dbac-953a1ee41a58"
      },
      "execution_count": 17,
      "outputs": [
        {
          "output_type": "stream",
          "name": "stdout",
          "text": [
            "True\n",
            "True\n",
            "True\n"
          ]
        }
      ]
    },
    {
      "cell_type": "markdown",
      "source": [
        "# **12. 논리연산자**\n",
        "\n",
        "**1) and**\n",
        "\n",
        "and는 모든 조건이 참일 때만 참이다.\n",
        "\n",
        "*   \"True\" and \"True\" -> Ture\n",
        "*   \"True\" and \"False\" -> False\n",
        "*   \"False\" and \"True\" -> False\n",
        "*   \"False\" and \"False\" -> False\n",
        "\n",
        "Like **\"Intersection\"** in Mathematics."
      ],
      "metadata": {
        "id": "CEziPi-KMd-C"
      }
    },
    {
      "cell_type": "code",
      "source": [
        "num = 5\n",
        "print((num < 10) and (num > 0))\n",
        "print((num < 10) and (num > 7))\n",
        "print((num < 5) and (num > 0))\n",
        "print((num < 4) and (num > 8))"
      ],
      "metadata": {
        "colab": {
          "base_uri": "https://localhost:8080/"
        },
        "id": "pQMPmCgkMyE5",
        "outputId": "f3e7855c-c9db-4502-e0ce-44f6b810f409"
      },
      "execution_count": 20,
      "outputs": [
        {
          "output_type": "stream",
          "name": "stdout",
          "text": [
            "True\n",
            "False\n",
            "False\n",
            "False\n"
          ]
        }
      ]
    },
    {
      "cell_type": "markdown",
      "source": [
        "**2) or**\n",
        "\n",
        "or은 적어도 하나 이상이 참이면 모두 참이다.\n",
        "\n",
        "*   \"Ture\" or \"Ture\" -> True\n",
        "*   \"True\" or \"False\" -> True\n",
        "*   \"False\" or \"Ture\" -> Ture\n",
        "*   \"False\" or \"False\" -> False\n",
        "\n",
        "Like **\"Union\"** in Mathematics."
      ],
      "metadata": {
        "id": "CoiPlk6AM_vs"
      }
    },
    {
      "cell_type": "code",
      "source": [
        "num = 5\n",
        "print((num < 10) or (num > 0))\n",
        "print((num < 10) or (num > 7))\n",
        "print((num < 5) or (num > 0))\n",
        "print((num < 4) or (num > 8))"
      ],
      "metadata": {
        "colab": {
          "base_uri": "https://localhost:8080/"
        },
        "id": "krPx4ZJeOB3m",
        "outputId": "8ce73298-d8ba-4a8e-d80b-13d3ac7025c9"
      },
      "execution_count": 21,
      "outputs": [
        {
          "output_type": "stream",
          "name": "stdout",
          "text": [
            "True\n",
            "True\n",
            "True\n",
            "False\n"
          ]
        }
      ]
    },
    {
      "cell_type": "markdown",
      "source": [
        "**3) not**\n",
        "\n",
        "not은 부정연산자이다."
      ],
      "metadata": {
        "id": "AwF7WpifOY6o"
      }
    },
    {
      "cell_type": "code",
      "source": [
        "not (2 <= 3)"
      ],
      "metadata": {
        "colab": {
          "base_uri": "https://localhost:8080/"
        },
        "id": "2beI5JOwOpf3",
        "outputId": "bc896797-f77d-479f-9283-b772264568c7"
      },
      "execution_count": 22,
      "outputs": [
        {
          "output_type": "execute_result",
          "data": {
            "text/plain": [
              "False"
            ]
          },
          "metadata": {},
          "execution_count": 22
        }
      ]
    },
    {
      "cell_type": "markdown",
      "source": [
        "# **직접해보기**\n",
        "\n",
        "[1] 파운드를 kg으로 변환해주는 프로그램을 만드세요.\n",
        "\n",
        "조건: 1 파운드(lb) = 0.453592 킬로그램(kg)\n",
        "      1 킬로그램(kg) = 2.204623 파운드(lb)\n",
        "\n",
        "-------------------------------------------\n",
        "\n",
        "파운드(lb)를 입력하세요 : 10\n",
        "\n",
        "10 파운드(lb)는 4.53592 킬로그램(kg) 입니다.\n",
        "\n",
        "-------------------------------------------"
      ],
      "metadata": {
        "id": "c9WXfAdtO0Nt"
      }
    },
    {
      "cell_type": "code",
      "source": [
        "pound = int(input(\"파운드(lb)를 입력하세요 : \"))\n",
        "kg = pound * 0.453592\n",
        "print(f\"{pound} 파운드(lb)는\", kg, \"킬로그램(kg) 입니다.\")"
      ],
      "metadata": {
        "colab": {
          "base_uri": "https://localhost:8080/"
        },
        "id": "gb2ZRbxWPiEN",
        "outputId": "fa167fa6-90c3-4da7-abc2-0dd58169e04b"
      },
      "execution_count": 24,
      "outputs": [
        {
          "output_type": "stream",
          "name": "stdout",
          "text": [
            "파운드(lb)를 입력하세요 : 10\n",
            "10 파운드(lb)는 4.53592 킬로그램(kg) 입니다.\n"
          ]
        }
      ]
    },
    {
      "cell_type": "markdown",
      "source": [
        "[2] 연산자 우선순위에 주의하여 이수학점에 따른 평균 학점을 구하는 프로그램을 만드세요.\n",
        "\n",
        "파이썬(3) B(3.5)\n",
        "\n",
        "C언어(2) A(4.0)\n",
        "\n",
        "모바일(1) A+(4.5)\n",
        "\n",
        "-------------------------------------------\n",
        "\n",
        "평균학점 : 3.8333333333333335\n",
        "\n",
        "-------------------------------------------"
      ],
      "metadata": {
        "id": "CxJg0qtARdt1"
      }
    },
    {
      "cell_type": "code",
      "source": [
        "python = 3\n",
        "C = 2\n",
        "mobile = 1\n",
        "AA = 4.5\n",
        "A = 4.0\n",
        "B = 3.5\n",
        "\n",
        "avg = (python*B + C*A + mobile*AA) / (python+C+mobile)\n",
        "\n",
        "print(\"평균학점 :\", avg)"
      ],
      "metadata": {
        "colab": {
          "base_uri": "https://localhost:8080/"
        },
        "id": "9k5urDBqSZ6j",
        "outputId": "9ba192e2-eb76-42ca-fa8d-06c3c495b30a"
      },
      "execution_count": 28,
      "outputs": [
        {
          "output_type": "stream",
          "name": "stdout",
          "text": [
            "평균학점 : 3.8333333333333335\n"
          ]
        }
      ]
    }
  ]
}