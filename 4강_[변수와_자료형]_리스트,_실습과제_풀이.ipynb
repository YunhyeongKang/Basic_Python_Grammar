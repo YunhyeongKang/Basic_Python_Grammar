{
  "nbformat": 4,
  "nbformat_minor": 0,
  "metadata": {
    "colab": {
      "provenance": [],
      "authorship_tag": "ABX9TyOKv1va9euftXbRY1644Zlo",
      "include_colab_link": true
    },
    "kernelspec": {
      "name": "python3",
      "display_name": "Python 3"
    },
    "language_info": {
      "name": "python"
    }
  },
  "cells": [
    {
      "cell_type": "markdown",
      "metadata": {
        "id": "view-in-github",
        "colab_type": "text"
      },
      "source": [
        "<a href=\"https://colab.research.google.com/github/YunhyeongKang/Basic_Grammar/blob/Python/4%EA%B0%95_%5B%EB%B3%80%EC%88%98%EC%99%80_%EC%9E%90%EB%A3%8C%ED%98%95%5D_%EB%A6%AC%EC%8A%A4%ED%8A%B8%2C_%EC%8B%A4%EC%8A%B5%EA%B3%BC%EC%A0%9C_%ED%92%80%EC%9D%B4.ipynb\" target=\"_parent\"><img src=\"https://colab.research.google.com/assets/colab-badge.svg\" alt=\"Open In Colab\"/></a>"
      ]
    },
    {
      "cell_type": "markdown",
      "source": [
        "# **7. 리스트**\n",
        "\n",
        "리스트는 **여러 개의 데이터를 한꺼번에 담을 수 있는 자료구조**이다. 리스트는 **변수 여러 개를 줄을 지어 연결**해둔 것으로 생각하면 된다.\n",
        "\n",
        "**1) 리스트 생성**\n",
        "리스트는 하나씩 사용하던 변수를 한 줄로 붙여놓은 개념이다. 각각의 데이터에는 번호를 붙여서 접근한다.\n",
        "\n",
        "*리스트이름 = [값1, 값2, 값3, ...]\n",
        "\n",
        "리스트를 만드는 형식은 위와 같다. 리스트 이름을 정하고, 대괄호 안에 리스트에 들어갈 값들을 넣는다."
      ],
      "metadata": {
        "id": "NVTwUgPJQzTB"
      }
    },
    {
      "cell_type": "code",
      "source": [
        "n = [1, 2, 3, 4]\n",
        "print(n[0])\n",
        "print(n[0]+n[1]+n[2]+n[3])"
      ],
      "metadata": {
        "colab": {
          "base_uri": "https://localhost:8080/"
        },
        "id": "p842EAI2S5te",
        "outputId": "656085a5-dd4e-4c20-ab2d-6331a3544d0c"
      },
      "execution_count": 3,
      "outputs": [
        {
          "output_type": "stream",
          "name": "stdout",
          "text": [
            "1\n",
            "10\n"
          ]
        }
      ]
    },
    {
      "cell_type": "code",
      "source": [
        "n = [1, 2, 3, 4]\n",
        "print(n[0])\n",
        "n[0] = int(input(\"숫자 : \"))\n",
        "print(n[0])\n",
        "print(n)"
      ],
      "metadata": {
        "colab": {
          "base_uri": "https://localhost:8080/"
        },
        "id": "DjhnawwtTlFN",
        "outputId": "71357f63-c7db-4875-e7eb-c4e8b6baa476"
      },
      "execution_count": 6,
      "outputs": [
        {
          "output_type": "stream",
          "name": "stdout",
          "text": [
            "1\n",
            "숫자 : 5\n",
            "5\n",
            "[5, 2, 3, 4]\n"
          ]
        }
      ]
    },
    {
      "cell_type": "markdown",
      "source": [
        "리스트 각각의 값에 접근하기 위해서는 대괄호를 사용하고 [번호]로 사용할 수 있다. 리스트의 첫 번째 값은 0부터 시작한다.\n",
        "\n",
        "또한 위와 같이 리스트는 각각의 값들을 변경 가능하다.\n",
        "\n",
        "그리고, 다음과 같이 비어있는 리스트, 문자열로 구성된 리스트를 생성할 수도 있다."
      ],
      "metadata": {
        "id": "EhIcTguPT44F"
      }
    },
    {
      "cell_type": "code",
      "source": [
        "madelist = []"
      ],
      "metadata": {
        "id": "DeEr2qQgUXNo"
      },
      "execution_count": 7,
      "outputs": []
    },
    {
      "cell_type": "code",
      "source": [
        "n = [\"apple\", \"banana\"]\n",
        "print(n)"
      ],
      "metadata": {
        "colab": {
          "base_uri": "https://localhost:8080/"
        },
        "id": "tGFpNGpWUn_4",
        "outputId": "7d1ac061-0daa-41ab-91c5-9499141c996b"
      },
      "execution_count": 8,
      "outputs": [
        {
          "output_type": "stream",
          "name": "stdout",
          "text": [
            "['apple', 'banana']\n"
          ]
        }
      ]
    },
    {
      "cell_type": "code",
      "source": [
        "n = [\"APPLE\", \"BANANA\", 1, 2, 3]\n",
        "print(n)"
      ],
      "metadata": {
        "colab": {
          "base_uri": "https://localhost:8080/"
        },
        "id": "q32FW_KeUt_-",
        "outputId": "09be297d-14d9-4022-8d43-456a72004537"
      },
      "execution_count": 12,
      "outputs": [
        {
          "output_type": "stream",
          "name": "stdout",
          "text": [
            "['APPLE', 'BANANA', 1, 2, 3]\n"
          ]
        }
      ]
    },
    {
      "cell_type": "markdown",
      "source": [
        "리스트를 제대로 사용하려면 for문과 같이 사용해야한다.(for문이란, 반복문을 뜻함)\n",
        "\n",
        "변수가 3, 4개 정도 일 경우에는 큰 상관이 없으나, 만약 변수가 1,000개, 10,000개 일 경우에는 리스트를 사용했다 하더라도 해당 코드를 작성하기 곤란하다. 이럴 경우 for문과 함께 사용한다."
      ],
      "metadata": {
        "id": "VvFoT3pBU9IT"
      }
    },
    {
      "cell_type": "markdown",
      "source": [
        "# **8. 리스트 관련 함수(1)**\n",
        "\n",
        "**1) 리스트에 값 추가하기 : 리스트이름.append(값)**\n",
        "\n",
        "리스트에 요소를 추가할 수 있는 함수."
      ],
      "metadata": {
        "id": "aMpG4ivQViPa"
      }
    },
    {
      "cell_type": "code",
      "source": [
        "madelist = []\n",
        "print(madelist)\n",
        "\n",
        "madelist.append(0)\n",
        "print(madelist)\n",
        "\n",
        "madelist.append(1)\n",
        "print(madelist)"
      ],
      "metadata": {
        "colab": {
          "base_uri": "https://localhost:8080/"
        },
        "id": "dAQmFdngWAPE",
        "outputId": "a28d5af3-12a8-469d-b334-8ae82fdbd17d"
      },
      "execution_count": 15,
      "outputs": [
        {
          "output_type": "stream",
          "name": "stdout",
          "text": [
            "[]\n",
            "[0]\n",
            "[0, 1]\n"
          ]
        }
      ]
    },
    {
      "cell_type": "code",
      "source": [
        "madelist = []\n",
        "print(madelist)\n",
        "\n",
        "for i in range (0, 10) :\n",
        "  madelist.append(0)\n",
        "\n",
        "print(madelist)"
      ],
      "metadata": {
        "colab": {
          "base_uri": "https://localhost:8080/"
        },
        "id": "5gUF4YkBXJ__",
        "outputId": "e334f22d-72b1-427a-bf06-a71cb0c349e5"
      },
      "execution_count": 21,
      "outputs": [
        {
          "output_type": "stream",
          "name": "stdout",
          "text": [
            "[]\n",
            "[0, 0, 0, 0, 0, 0, 0, 0, 0, 0]\n"
          ]
        }
      ]
    },
    {
      "cell_type": "code",
      "source": [
        "madelist = []\n",
        "print(madelist)\n",
        "\n",
        "for i in range (0, 10) :\n",
        "  new_index = int(input(\"숫자 : \"))\n",
        "  madelist.append(new_index)\n",
        "\n",
        "print(madelist)"
      ],
      "metadata": {
        "colab": {
          "base_uri": "https://localhost:8080/"
        },
        "id": "4UHzLPSJWd23",
        "outputId": "f357b24d-e19e-4fe2-f8ba-87769933039e"
      },
      "execution_count": 20,
      "outputs": [
        {
          "output_type": "stream",
          "name": "stdout",
          "text": [
            "[]\n",
            "숫자 : 0\n",
            "숫자 : 1\n",
            "숫자 : 2\n",
            "숫자 : 3\n",
            "숫자 : 4\n",
            "숫자 : 5\n",
            "숫자 : 6\n",
            "숫자 : 7\n",
            "숫자 : 8\n",
            "숫자 : 9\n",
            "[0, 1, 2, 3, 4, 5, 6, 7, 8, 9]\n"
          ]
        }
      ]
    },
    {
      "cell_type": "markdown",
      "source": [
        "입력을 받을 때에도 for문을 활용할 수 있다."
      ],
      "metadata": {
        "id": "9lgG3kG6Z6hy"
      }
    },
    {
      "cell_type": "code",
      "source": [
        "n = []\n",
        "for i in range(0,4) :\n",
        "  n.append(0)\n",
        "print(n)\n",
        "\n",
        "for i in range(0,4) :\n",
        "  n[i] = int(input(\"숫자 : \"))\n",
        "print(n)"
      ],
      "metadata": {
        "colab": {
          "base_uri": "https://localhost:8080/"
        },
        "id": "LXGEPQ6PZ9lK",
        "outputId": "4901504b-38e7-4460-fe9f-5d4ff1efed84"
      },
      "execution_count": 28,
      "outputs": [
        {
          "output_type": "stream",
          "name": "stdout",
          "text": [
            "[0, 0, 0, 0]\n",
            "숫자 : 1\n",
            "숫자 : 2\n",
            "숫자 : 3\n",
            "숫자 : 4\n",
            "[1, 2, 3, 4]\n"
          ]
        }
      ]
    },
    {
      "cell_type": "markdown",
      "source": [
        "# **직접해보기**\n",
        "\n",
        "0부터 1000까지 숫자 중 짝수만 가지는 리스트를 만드세요."
      ],
      "metadata": {
        "id": "f36YjNPuXV-v"
      }
    },
    {
      "cell_type": "code",
      "source": [
        "madelist = []\n",
        "\n",
        "for i in range(0, 500) :\n",
        "  madelist.append(2*i)\n",
        "\n",
        "print(madelist)"
      ],
      "metadata": {
        "colab": {
          "base_uri": "https://localhost:8080/"
        },
        "id": "NLOp6ZrPXdHG",
        "outputId": "f4d84518-65c2-4d42-e852-ffb51a654684"
      },
      "execution_count": 26,
      "outputs": [
        {
          "output_type": "stream",
          "name": "stdout",
          "text": [
            "[0, 2, 4, 6, 8, 10, 12, 14, 16, 18, 20, 22, 24, 26, 28, 30, 32, 34, 36, 38, 40, 42, 44, 46, 48, 50, 52, 54, 56, 58, 60, 62, 64, 66, 68, 70, 72, 74, 76, 78, 80, 82, 84, 86, 88, 90, 92, 94, 96, 98, 100, 102, 104, 106, 108, 110, 112, 114, 116, 118, 120, 122, 124, 126, 128, 130, 132, 134, 136, 138, 140, 142, 144, 146, 148, 150, 152, 154, 156, 158, 160, 162, 164, 166, 168, 170, 172, 174, 176, 178, 180, 182, 184, 186, 188, 190, 192, 194, 196, 198, 200, 202, 204, 206, 208, 210, 212, 214, 216, 218, 220, 222, 224, 226, 228, 230, 232, 234, 236, 238, 240, 242, 244, 246, 248, 250, 252, 254, 256, 258, 260, 262, 264, 266, 268, 270, 272, 274, 276, 278, 280, 282, 284, 286, 288, 290, 292, 294, 296, 298, 300, 302, 304, 306, 308, 310, 312, 314, 316, 318, 320, 322, 324, 326, 328, 330, 332, 334, 336, 338, 340, 342, 344, 346, 348, 350, 352, 354, 356, 358, 360, 362, 364, 366, 368, 370, 372, 374, 376, 378, 380, 382, 384, 386, 388, 390, 392, 394, 396, 398, 400, 402, 404, 406, 408, 410, 412, 414, 416, 418, 420, 422, 424, 426, 428, 430, 432, 434, 436, 438, 440, 442, 444, 446, 448, 450, 452, 454, 456, 458, 460, 462, 464, 466, 468, 470, 472, 474, 476, 478, 480, 482, 484, 486, 488, 490, 492, 494, 496, 498, 500, 502, 504, 506, 508, 510, 512, 514, 516, 518, 520, 522, 524, 526, 528, 530, 532, 534, 536, 538, 540, 542, 544, 546, 548, 550, 552, 554, 556, 558, 560, 562, 564, 566, 568, 570, 572, 574, 576, 578, 580, 582, 584, 586, 588, 590, 592, 594, 596, 598, 600, 602, 604, 606, 608, 610, 612, 614, 616, 618, 620, 622, 624, 626, 628, 630, 632, 634, 636, 638, 640, 642, 644, 646, 648, 650, 652, 654, 656, 658, 660, 662, 664, 666, 668, 670, 672, 674, 676, 678, 680, 682, 684, 686, 688, 690, 692, 694, 696, 698, 700, 702, 704, 706, 708, 710, 712, 714, 716, 718, 720, 722, 724, 726, 728, 730, 732, 734, 736, 738, 740, 742, 744, 746, 748, 750, 752, 754, 756, 758, 760, 762, 764, 766, 768, 770, 772, 774, 776, 778, 780, 782, 784, 786, 788, 790, 792, 794, 796, 798, 800, 802, 804, 806, 808, 810, 812, 814, 816, 818, 820, 822, 824, 826, 828, 830, 832, 834, 836, 838, 840, 842, 844, 846, 848, 850, 852, 854, 856, 858, 860, 862, 864, 866, 868, 870, 872, 874, 876, 878, 880, 882, 884, 886, 888, 890, 892, 894, 896, 898, 900, 902, 904, 906, 908, 910, 912, 914, 916, 918, 920, 922, 924, 926, 928, 930, 932, 934, 936, 938, 940, 942, 944, 946, 948, 950, 952, 954, 956, 958, 960, 962, 964, 966, 968, 970, 972, 974, 976, 978, 980, 982, 984, 986, 988, 990, 992, 994, 996, 998]\n"
          ]
        }
      ]
    },
    {
      "cell_type": "markdown",
      "source": [
        "***Another solution***)"
      ],
      "metadata": {
        "id": "IrxQGvEGZHsP"
      }
    },
    {
      "cell_type": "code",
      "source": [
        "madelist = []\n",
        "for i in range(0, 1001) :\n",
        "  if i%2 == 0 :\n",
        "    madelist.append(i)\n",
        "\n",
        "print(madelist)"
      ],
      "metadata": {
        "colab": {
          "base_uri": "https://localhost:8080/"
        },
        "id": "xhDmBq1eZOZx",
        "outputId": "a843c444-b871-4ce2-e778-24de116b6a8c"
      },
      "execution_count": 27,
      "outputs": [
        {
          "output_type": "stream",
          "name": "stdout",
          "text": [
            "[0, 2, 4, 6, 8, 10, 12, 14, 16, 18, 20, 22, 24, 26, 28, 30, 32, 34, 36, 38, 40, 42, 44, 46, 48, 50, 52, 54, 56, 58, 60, 62, 64, 66, 68, 70, 72, 74, 76, 78, 80, 82, 84, 86, 88, 90, 92, 94, 96, 98, 100, 102, 104, 106, 108, 110, 112, 114, 116, 118, 120, 122, 124, 126, 128, 130, 132, 134, 136, 138, 140, 142, 144, 146, 148, 150, 152, 154, 156, 158, 160, 162, 164, 166, 168, 170, 172, 174, 176, 178, 180, 182, 184, 186, 188, 190, 192, 194, 196, 198, 200, 202, 204, 206, 208, 210, 212, 214, 216, 218, 220, 222, 224, 226, 228, 230, 232, 234, 236, 238, 240, 242, 244, 246, 248, 250, 252, 254, 256, 258, 260, 262, 264, 266, 268, 270, 272, 274, 276, 278, 280, 282, 284, 286, 288, 290, 292, 294, 296, 298, 300, 302, 304, 306, 308, 310, 312, 314, 316, 318, 320, 322, 324, 326, 328, 330, 332, 334, 336, 338, 340, 342, 344, 346, 348, 350, 352, 354, 356, 358, 360, 362, 364, 366, 368, 370, 372, 374, 376, 378, 380, 382, 384, 386, 388, 390, 392, 394, 396, 398, 400, 402, 404, 406, 408, 410, 412, 414, 416, 418, 420, 422, 424, 426, 428, 430, 432, 434, 436, 438, 440, 442, 444, 446, 448, 450, 452, 454, 456, 458, 460, 462, 464, 466, 468, 470, 472, 474, 476, 478, 480, 482, 484, 486, 488, 490, 492, 494, 496, 498, 500, 502, 504, 506, 508, 510, 512, 514, 516, 518, 520, 522, 524, 526, 528, 530, 532, 534, 536, 538, 540, 542, 544, 546, 548, 550, 552, 554, 556, 558, 560, 562, 564, 566, 568, 570, 572, 574, 576, 578, 580, 582, 584, 586, 588, 590, 592, 594, 596, 598, 600, 602, 604, 606, 608, 610, 612, 614, 616, 618, 620, 622, 624, 626, 628, 630, 632, 634, 636, 638, 640, 642, 644, 646, 648, 650, 652, 654, 656, 658, 660, 662, 664, 666, 668, 670, 672, 674, 676, 678, 680, 682, 684, 686, 688, 690, 692, 694, 696, 698, 700, 702, 704, 706, 708, 710, 712, 714, 716, 718, 720, 722, 724, 726, 728, 730, 732, 734, 736, 738, 740, 742, 744, 746, 748, 750, 752, 754, 756, 758, 760, 762, 764, 766, 768, 770, 772, 774, 776, 778, 780, 782, 784, 786, 788, 790, 792, 794, 796, 798, 800, 802, 804, 806, 808, 810, 812, 814, 816, 818, 820, 822, 824, 826, 828, 830, 832, 834, 836, 838, 840, 842, 844, 846, 848, 850, 852, 854, 856, 858, 860, 862, 864, 866, 868, 870, 872, 874, 876, 878, 880, 882, 884, 886, 888, 890, 892, 894, 896, 898, 900, 902, 904, 906, 908, 910, 912, 914, 916, 918, 920, 922, 924, 926, 928, 930, 932, 934, 936, 938, 940, 942, 944, 946, 948, 950, 952, 954, 956, 958, 960, 962, 964, 966, 968, 970, 972, 974, 976, 978, 980, 982, 984, 986, 988, 990, 992, 994, 996, 998, 1000]\n"
          ]
        }
      ]
    },
    {
      "cell_type": "markdown",
      "source": [
        "# **8. 리스트 관련 함수(2)**\n",
        "\n",
        "**[음수값으로 접근하기]**\n",
        "\n",
        "리스트이름[첨자]에서 첨자가 음수값을 넣으면 리스트의 맨 뒤부터 접근할 수 있다."
      ],
      "metadata": {
        "id": "k7vBYXhvajih"
      }
    },
    {
      "cell_type": "code",
      "source": [
        "madelist = []\n",
        "\n",
        "for i in range(0,10) :\n",
        "  madelist.append(i)\n",
        "\n",
        "print(madelist)\n",
        "print(\"madelist[-1]은\",madelist[-1],\"입니다.\")\n",
        "print(\"madelist[-2]은\",madelist[-2],\"입니다.\")\n",
        "print(\"madelist[-3]은\",madelist[-3],\"입니다.\")\n",
        "print(\"madelist[-4]은\",madelist[-4],\"입니다.\")"
      ],
      "metadata": {
        "colab": {
          "base_uri": "https://localhost:8080/"
        },
        "id": "sWitpZc9a0BF",
        "outputId": "57aba94d-29c7-4ff4-9764-0655fc25f860"
      },
      "execution_count": 30,
      "outputs": [
        {
          "output_type": "stream",
          "name": "stdout",
          "text": [
            "[0, 1, 2, 3, 4, 5, 6, 7, 8, 9]\n",
            "madelist[-1]은 9 입니다.\n",
            "madelist[-2]은 8 입니다.\n",
            "madelist[-3]은 7 입니다.\n",
            "madelist[-4]은 6 입니다.\n"
          ]
        }
      ]
    },
    {
      "cell_type": "markdown",
      "source": [
        "**2) 콜론(:)을 사용하여 범위 지정하기**\n",
        "\n",
        "리스트에 접근할 때 콜론(:)을 사용하여 범위를 지정할 수 있다.\n",
        "\n",
        "*리스트이름[시작 : 끝+1]\n",
        "\n",
        "리스트의 시작 위치부터 끝 위치까지 모든 값을 의미한다. 이때, 마지막 첨자는 포함되지 않는 다는 것에 주의하자.(반드시 원하는 끝 위치 \"+ 1\"을 해줘야한다)\n",
        "\n",
        "앞을 비워주면 \"맨 처음부터\"라는 의미, 뒤를 비워주면 \"맨 마지막까지\"라는 의미"
      ],
      "metadata": {
        "id": "zOC_CvAobvMR"
      }
    },
    {
      "cell_type": "code",
      "source": [
        "madelist = [1, 2, 3, 4, 5]\n",
        "print(madelist)\n",
        "\n",
        "print(madelist[0:4])\n",
        "print(madelist[:4])\n",
        "print(madelist[2:5])\n",
        "print(madelist[2:])\n",
        "print(madelist[2:4])"
      ],
      "metadata": {
        "colab": {
          "base_uri": "https://localhost:8080/"
        },
        "id": "cF9SqarocPRX",
        "outputId": "50461feb-9b7d-4e32-b9d7-6de08ff47b36"
      },
      "execution_count": 32,
      "outputs": [
        {
          "output_type": "stream",
          "name": "stdout",
          "text": [
            "[1, 2, 3, 4, 5]\n",
            "[1, 2, 3, 4]\n",
            "[1, 2, 3, 4]\n",
            "[3, 4, 5]\n",
            "[3, 4, 5]\n",
            "[3, 4]\n"
          ]
        }
      ]
    },
    {
      "cell_type": "markdown",
      "source": [
        "**3) 리스트의 덧셈**\n",
        "\n",
        "리스트끼리의 덧셈은 두 개의 리스트가 합쳐져서 하나의 리스트가 된다."
      ],
      "metadata": {
        "id": "A57KQIFGdUcZ"
      }
    },
    {
      "cell_type": "code",
      "source": [
        "madelist = [1,2,3,4,5]\n",
        "madelist2 = [6,7,8,9,10]\n",
        "\n",
        "print(madelist)\n",
        "print(madelist2)\n",
        "print(madelist + madelist2)"
      ],
      "metadata": {
        "colab": {
          "base_uri": "https://localhost:8080/"
        },
        "id": "zTgX8WWCdZOj",
        "outputId": "42732601-c91a-4224-df51-658bb4da419a"
      },
      "execution_count": 35,
      "outputs": [
        {
          "output_type": "stream",
          "name": "stdout",
          "text": [
            "[1, 2, 3, 4, 5]\n",
            "[6, 7, 8, 9, 10]\n",
            "[1, 2, 3, 4, 5, 6, 7, 8, 9, 10]\n"
          ]
        }
      ]
    },
    {
      "cell_type": "markdown",
      "source": [
        "**4) 리스트의 곱셈**\n",
        "\n",
        "리스트끼리의 곱셈은 곱한 횟수만큼 리스트가 반복되어 나온다."
      ],
      "metadata": {
        "id": "sF217ebldwTr"
      }
    },
    {
      "cell_type": "code",
      "source": [
        "madelist = [1,2,3,4,5]\n",
        "\n",
        "print(madelist)\n",
        "print(madelist*2)"
      ],
      "metadata": {
        "colab": {
          "base_uri": "https://localhost:8080/"
        },
        "id": "lWOQ-RHQeFwl",
        "outputId": "558c09f7-a444-41a5-f336-3c4cba3163c4"
      },
      "execution_count": 36,
      "outputs": [
        {
          "output_type": "stream",
          "name": "stdout",
          "text": [
            "[1, 2, 3, 4, 5]\n",
            "[1, 2, 3, 4, 5, 1, 2, 3, 4, 5]\n"
          ]
        }
      ]
    },
    {
      "cell_type": "markdown",
      "source": [
        "**5) 첨자를 사용하여 리스트의 값 변경하기**\n",
        "\n",
        "첨자를 사용하여 리스트의 특정 값을 변경할 수 있다."
      ],
      "metadata": {
        "id": "nj47DjVHeRof"
      }
    },
    {
      "cell_type": "code",
      "source": [
        "madelist = [1,2,3,4,5]\n",
        "\n",
        "print(madelist)\n",
        "madelist[0] = 100\n",
        "print(madelist)"
      ],
      "metadata": {
        "colab": {
          "base_uri": "https://localhost:8080/"
        },
        "id": "o_fv87qbedcN",
        "outputId": "7eed244a-c5f5-41dd-d355-5e11f82aa643"
      },
      "execution_count": 37,
      "outputs": [
        {
          "output_type": "stream",
          "name": "stdout",
          "text": [
            "[1, 2, 3, 4, 5]\n",
            "[100, 2, 3, 4, 5]\n"
          ]
        }
      ]
    },
    {
      "cell_type": "markdown",
      "source": [
        "**6) 연속된 범위의 리스트의 값 변경하기**\n",
        "\n",
        "연속된 범위의 리스트의 값을 한번에 변경할 수 있다."
      ],
      "metadata": {
        "id": "0DiKPSvSemi-"
      }
    },
    {
      "cell_type": "code",
      "source": [
        "madelist = [1,2,3,4,5]\n",
        "\n",
        "print(madelist)\n",
        "madelist[1:3] = [10, 10, 10]\n",
        "\n",
        "\n",
        "print(madelist)"
      ],
      "metadata": {
        "colab": {
          "base_uri": "https://localhost:8080/"
        },
        "id": "CzomCXIoewme",
        "outputId": "6a7157ec-7694-4ac6-c51f-7f0333c5e58c"
      },
      "execution_count": 39,
      "outputs": [
        {
          "output_type": "stream",
          "name": "stdout",
          "text": [
            "[1, 2, 3, 4, 5]\n",
            "[1, 10, 10, 10, 4, 5]\n"
          ]
        }
      ]
    },
    {
      "cell_type": "code",
      "source": [
        "madelist = []\n",
        "\n",
        "for i in range(0,10) :\n",
        "  madelist.append(i)\n",
        "\n",
        "print(madelist)\n",
        "\n",
        "madelist[1:2] = [10,10]\n",
        "print(madelist)"
      ],
      "metadata": {
        "colab": {
          "base_uri": "https://localhost:8080/"
        },
        "id": "PIJSZAf5fQml",
        "outputId": "e16e371b-db56-43f6-fb55-66dfcf25df5b"
      },
      "execution_count": 43,
      "outputs": [
        {
          "output_type": "stream",
          "name": "stdout",
          "text": [
            "[0, 1, 2, 3, 4, 5, 6, 7, 8, 9]\n",
            "[0, 10, 10, 2, 3, 4, 5, 6, 7, 8, 9]\n"
          ]
        }
      ]
    },
    {
      "cell_type": "markdown",
      "source": [
        "만약 madelist[1:2] 대신에 madelist[1]을 넣는다면 해당 위치에 리스트가 들어가게 된다."
      ],
      "metadata": {
        "id": "d2Fd4xxzfyzF"
      }
    },
    {
      "cell_type": "code",
      "source": [
        "madelist = []\n",
        "\n",
        "for i in range(0,10) :\n",
        "  madelist.append(i)\n",
        "\n",
        "print(madelist)\n",
        "\n",
        "madelist[1] = [10,10]\n",
        "print(madelist)"
      ],
      "metadata": {
        "colab": {
          "base_uri": "https://localhost:8080/"
        },
        "id": "Ed6SRJW2f5lS",
        "outputId": "01a13f6f-a3bb-4981-e70a-12a3e84c2bd6"
      },
      "execution_count": 44,
      "outputs": [
        {
          "output_type": "stream",
          "name": "stdout",
          "text": [
            "[0, 1, 2, 3, 4, 5, 6, 7, 8, 9]\n",
            "[0, [10, 10], 2, 3, 4, 5, 6, 7, 8, 9]\n"
          ]
        }
      ]
    },
    {
      "cell_type": "markdown",
      "source": [
        "# **직접해보기**\n",
        "\n",
        "10개의 수를 입력받아 리스트를 생성하고 뒤에서부터 거꾸로 출력하세요.\n",
        "\n",
        "-------------------------------------------\n",
        "\n",
        "8 번째 수를 입력하세요\n",
        "\n",
        "8\n",
        "\n",
        "9 번째 수를 입력하세요\n",
        "\n",
        "9\n",
        "\n",
        "10 번째 수를 입력하세요\n",
        "\n",
        "10\n",
        "\n",
        "10  9 8 7 6 5 4 3 2 1\n",
        "\n",
        "-------------------------------------------"
      ],
      "metadata": {
        "id": "xfkK7OxUgQKo"
      }
    },
    {
      "cell_type": "code",
      "source": [
        "madelist = []\n",
        "for i in range(0,10) :\n",
        "  print(f\"{i+1} 번째 수를 입력하세요\")\n",
        "  n = int(input())\n",
        "  madelist.append(n)\n",
        "\n",
        "print(madelist[-1],madelist[-2],madelist[-3],madelist[-4],madelist[-5],madelist[-6],madelist[-7],madelist[-8],madelist[-9],madelist[-10])"
      ],
      "metadata": {
        "colab": {
          "base_uri": "https://localhost:8080/"
        },
        "id": "t_xldSK-grJp",
        "outputId": "ed2d3216-5099-4756-c06f-420f955dfb7d"
      },
      "execution_count": 68,
      "outputs": [
        {
          "output_type": "stream",
          "name": "stdout",
          "text": [
            "1 번째 수를 입력하세요\n",
            "1\n",
            "2 번째 수를 입력하세요\n",
            "2\n",
            "3 번째 수를 입력하세요\n",
            "3\n",
            "4 번째 수를 입력하세요\n",
            "4\n",
            "5 번째 수를 입력하세요\n",
            "5\n",
            "6 번째 수를 입력하세요\n",
            "6\n",
            "7 번째 수를 입력하세요\n",
            "7\n",
            "8 번째 수를 입력하세요\n",
            "8\n",
            "9 번째 수를 입력하세요\n",
            "9\n",
            "10 번째 수를 입력하세요\n",
            "10\n",
            "10 9 8 7 6 5 4 3 2 1\n"
          ]
        }
      ]
    },
    {
      "cell_type": "markdown",
      "source": [
        "***Another solution)***"
      ],
      "metadata": {
        "id": "WfILYWxbl1ll"
      }
    },
    {
      "cell_type": "code",
      "source": [
        "t = []\n",
        "for i in range(0,10) :\n",
        "  print(f\"{i+1} 번째 수를 입력하세요\")\n",
        "  n = int(input())\n",
        "  madelist.append(n)\n",
        "\n",
        "for i in range(-1, -11, -1) :\n",
        "  print(madelist[i], \" \", end=' ')"
      ],
      "metadata": {
        "colab": {
          "base_uri": "https://localhost:8080/"
        },
        "id": "7tBklLLHl47R",
        "outputId": "71f33dc5-27d8-43fe-de8b-1853df481608"
      },
      "execution_count": 67,
      "outputs": [
        {
          "output_type": "stream",
          "name": "stdout",
          "text": [
            "1 번째 수를 입력하세요\n",
            "1\n",
            "2 번째 수를 입력하세요\n",
            "2\n",
            "3 번째 수를 입력하세요\n",
            "3\n",
            "4 번째 수를 입력하세요\n",
            "4\n",
            "5 번째 수를 입력하세요\n",
            "5\n",
            "6 번째 수를 입력하세요\n",
            "6\n",
            "7 번째 수를 입력하세요\n",
            "7\n",
            "8 번째 수를 입력하세요\n",
            "8\n",
            "9 번째 수를 입력하세요\n",
            "9\n",
            "10 번째 수를 입력하세요\n",
            "10\n",
            "10   9   8   7   6   5   4   3   2   1   "
          ]
        }
      ]
    }
  ]
}