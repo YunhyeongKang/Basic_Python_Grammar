{
  "nbformat": 4,
  "nbformat_minor": 0,
  "metadata": {
    "colab": {
      "provenance": [],
      "authorship_tag": "ABX9TyP0o2mV/SBRCqFentNv8vaX",
      "include_colab_link": true
    },
    "kernelspec": {
      "name": "python3",
      "display_name": "Python 3"
    },
    "language_info": {
      "name": "python"
    }
  },
  "cells": [
    {
      "cell_type": "markdown",
      "metadata": {
        "id": "view-in-github",
        "colab_type": "text"
      },
      "source": [
        "<a href=\"https://colab.research.google.com/github/YunhyeongKang/Basic_Grammar/blob/Python/3%EA%B0%95_%5B%EB%B3%80%EC%88%98%EC%99%80_%EC%9E%90%EB%A3%8C%ED%98%95%5D_%EB%AC%B8%EC%9E%90%EC%97%B4.ipynb\" target=\"_parent\"><img src=\"https://colab.research.google.com/assets/colab-badge.svg\" alt=\"Open In Colab\"/></a>"
      ]
    },
    {
      "cell_type": "markdown",
      "source": [
        "# **직접해보기**\n",
        "\n",
        "[2] 두 단어를 입력받고, 해당 언어가 2번씩 반복되어 붙어서 출력되는 프로그램을 만드세요.\n",
        "\n",
        "단어 --> 사탕\n",
        "\n",
        "단어 --> 초콜릿\n",
        "\n",
        "사탕사탕초콜릿초콜릿"
      ],
      "metadata": {
        "id": "W75A0JTx0BaN"
      }
    },
    {
      "cell_type": "code",
      "source": [
        "word1 = input(\"단어 --> \")\n",
        "word2 = input(\"단어 --> \")\n",
        "Word = word1*2 + word2*2\n",
        "print(Word)"
      ],
      "metadata": {
        "colab": {
          "base_uri": "https://localhost:8080/"
        },
        "id": "UEtBPvVv0QDh",
        "outputId": "a8bcc952-64b1-41b1-cdc1-22acfeada17d"
      },
      "execution_count": null,
      "outputs": [
        {
          "output_type": "stream",
          "name": "stdout",
          "text": [
            "단어 --> 사탕\n",
            "단어 --> 초콜릿\n",
            "사탕사탕초콜릿초콜릿\n"
          ]
        }
      ]
    },
    {
      "cell_type": "markdown",
      "source": [
        "[3] 아래 코드의 실행결과를 예상해보세요.\n",
        "\n",
        "n1 = input(\"숫자 --> \")\n",
        "\n",
        "n2 = input(\"숫자 --> \")\n",
        "\n",
        "print(n1 + n2)\n",
        "\n",
        "***Solution***) input() 함수는 기본적으로 문자(열)로 인식하므로 n1에서 1을 받고 n2에서 10을 받았다면, 1+10=11이 아닌, 110을 출력하게 된다."
      ],
      "metadata": {
        "id": "qEOVKXIO1RHA"
      }
    },
    {
      "cell_type": "markdown",
      "source": [
        "# **4. 데이터형**\n",
        "\n",
        "데이터형이란 **변수나 상수의 종류**를 의미한다.\n",
        "\n",
        "*   숫자: int(정수), float(실수)\n",
        "*   참/거짓: bool\n",
        "*   문자(열): str\n",
        "\n",
        "**1) 정수형 / int형**\n",
        "\n",
        "소숫점이 없는 수(양의 정수 / 0 / 음의 정수)\n",
        "\n",
        "타 언어와는 달리 Python에서는 int형에 저장할 수 있는 숫자 크기의 제한이 없다.\n",
        "\n",
        "\n",
        "**2) 실수형**\n",
        "\n",
        "소숫점이 있는 숫자.\n",
        "\n",
        "\n",
        "**3) 문자열형**\n",
        "\n",
        "글자들의 집합으로, 문자열은 양쪽을 큰따옴표(\"\") 혹은 작은따옴표('')로 감싸야한다. 문자열은 string의 약자, str로 표현한다. \"띄어쓰기\" 또한 문자열에 포함된다.\n",
        "\n",
        "\n",
        "**4) 불형 / 논리형**\n",
        "\n",
        "참(Ture)이나 거짓(False)만 저장할 수 있는 데이터 형식."
      ],
      "metadata": {
        "id": "J8OyH0X12Mer"
      }
    },
    {
      "cell_type": "code",
      "source": [
        "n1 = 5\n",
        "type(n1)"
      ],
      "metadata": {
        "colab": {
          "base_uri": "https://localhost:8080/"
        },
        "id": "yHf8ICnL4dHi",
        "outputId": "7cb0560a-225b-4bac-bdca-1152308eddd2"
      },
      "execution_count": null,
      "outputs": [
        {
          "output_type": "execute_result",
          "data": {
            "text/plain": [
              "int"
            ]
          },
          "metadata": {},
          "execution_count": 8
        }
      ]
    },
    {
      "cell_type": "code",
      "source": [
        "n2 = 5.1\n",
        "type(n2)"
      ],
      "metadata": {
        "colab": {
          "base_uri": "https://localhost:8080/"
        },
        "id": "AEb0XVx25ks-",
        "outputId": "dd1e5bc2-a3af-4853-e634-8397e50e549c"
      },
      "execution_count": null,
      "outputs": [
        {
          "output_type": "execute_result",
          "data": {
            "text/plain": [
              "float"
            ]
          },
          "metadata": {},
          "execution_count": 9
        }
      ]
    },
    {
      "cell_type": "code",
      "source": [
        "n1 = 5\n",
        "n2 = 5.1\n",
        "ns = n1 + n2\n",
        "type(ns)"
      ],
      "metadata": {
        "colab": {
          "base_uri": "https://localhost:8080/"
        },
        "id": "wS-I6XMY5oRY",
        "outputId": "644aa141-0d1e-4cf3-b61e-ed7ff38c531b"
      },
      "execution_count": null,
      "outputs": [
        {
          "output_type": "execute_result",
          "data": {
            "text/plain": [
              "float"
            ]
          },
          "metadata": {},
          "execution_count": 10
        }
      ]
    },
    {
      "cell_type": "code",
      "source": [
        "t = \"안녕하세요\"\n",
        "type(t)"
      ],
      "metadata": {
        "colab": {
          "base_uri": "https://localhost:8080/"
        },
        "id": "I1RGF-5a5ugm",
        "outputId": "7824fbd6-e144-42be-befd-3a567e4c5dc3"
      },
      "execution_count": null,
      "outputs": [
        {
          "output_type": "execute_result",
          "data": {
            "text/plain": [
              "str"
            ]
          },
          "metadata": {},
          "execution_count": 11
        }
      ]
    },
    {
      "cell_type": "code",
      "source": [
        "TF = True\n",
        "type(TF)"
      ],
      "metadata": {
        "colab": {
          "base_uri": "https://localhost:8080/"
        },
        "id": "AdGBiAOl5zg7",
        "outputId": "65c98bf5-125c-43f2-b32e-8ac44740cba2"
      },
      "execution_count": null,
      "outputs": [
        {
          "output_type": "execute_result",
          "data": {
            "text/plain": [
              "bool"
            ]
          },
          "metadata": {},
          "execution_count": 12
        }
      ]
    },
    {
      "cell_type": "markdown",
      "source": [
        "*type() 함수: 데이터형을 출력하는 함수"
      ],
      "metadata": {
        "id": "M76FAVKV4ijY"
      }
    },
    {
      "cell_type": "markdown",
      "source": [
        "# **5. 문자열**\n",
        "\n",
        "문자열은 **글자들을 모아놓은 것**이다. 큰따옴표 혹은 작은따옴표로 묶는다. 문자열은 '0개의 글자'부터 '여러 개의 글자', '띄어쓰기'까지 모두 문자열로 취급한다."
      ],
      "metadata": {
        "id": "r5QFkd1C6wml"
      }
    },
    {
      "cell_type": "code",
      "source": [
        "n1 = \"안녕하세요\"\n",
        "n2 = '안녕하세요'\n",
        "n3 = \"A\"\n",
        "n4 = 'A'\n",
        "n5 = \"\"\n",
        "n6 = ''\n",
        "print(n1, n2, n3, n4, n5, n6)"
      ],
      "metadata": {
        "colab": {
          "base_uri": "https://localhost:8080/"
        },
        "id": "F7-ptvu559eX",
        "outputId": "bc5471bd-4ad5-4e9d-fba2-ccc1861f0f50"
      },
      "execution_count": null,
      "outputs": [
        {
          "output_type": "stream",
          "name": "stdout",
          "text": [
            "안녕하세요 안녕하세요 A A  \n"
          ]
        }
      ]
    },
    {
      "cell_type": "markdown",
      "source": [
        "여러 줄의 문자열을 표현하고 싶다면 작은따옴표 혹은 큰 따옴표 3개를 연속으로 사용한다."
      ],
      "metadata": {
        "id": "euBskjy17Xfx"
      }
    },
    {
      "cell_type": "code",
      "source": [
        "n1 = \"\"\"안녕하세요\n",
        "반갑습니다\"\"\"\n",
        "n2 = '''안녕하세요\n",
        "반갑습니다'''\n",
        "\n",
        "print(n1)\n",
        "print(n2)"
      ],
      "metadata": {
        "colab": {
          "base_uri": "https://localhost:8080/"
        },
        "id": "dWGrK6XZ7WI4",
        "outputId": "56a7f1c7-9be2-4d9e-ae4a-516de853c677"
      },
      "execution_count": null,
      "outputs": [
        {
          "output_type": "stream",
          "name": "stdout",
          "text": [
            "안녕하세요\n",
            "반갑습니다\n",
            "안녕하세요\n",
            "반갑습니다\n"
          ]
        }
      ]
    },
    {
      "cell_type": "markdown",
      "source": [
        "**[이스케이프 문자]** 백슬래시를 붙여서 나타내면 된다.\n",
        "\n",
        "*   \\n : Enter, 새로운 줄로 이동\n",
        "*   \\t : Tab, 탭 만큼 띄어줌\n",
        "*   \\b : 뒤로 한 칸 이동\n",
        "*   \\\\' : ' 을 출력\n",
        "*   \\\\\" : \" 을 출력\n",
        "*   \\\\\\ : \\ 을 출력"
      ],
      "metadata": {
        "id": "yFNkhr7s74Wb"
      }
    },
    {
      "cell_type": "code",
      "source": [
        "print(\"안녕\\n반갑습니다\")"
      ],
      "metadata": {
        "colab": {
          "base_uri": "https://localhost:8080/"
        },
        "id": "JBtWRnwI9Jje",
        "outputId": "27a2aec8-b330-47dd-8295-6c60fac073e4"
      },
      "execution_count": null,
      "outputs": [
        {
          "output_type": "stream",
          "name": "stdout",
          "text": [
            "안녕\n",
            "반갑습니다\n"
          ]
        }
      ]
    },
    {
      "cell_type": "code",
      "source": [
        "print(\"안녕\\t반갑습니다\")"
      ],
      "metadata": {
        "colab": {
          "base_uri": "https://localhost:8080/"
        },
        "id": "dNq07xE99lN7",
        "outputId": "ab5f3218-298f-4841-e121-451636814f7f"
      },
      "execution_count": null,
      "outputs": [
        {
          "output_type": "stream",
          "name": "stdout",
          "text": [
            "안녕\t반갑습니다\n"
          ]
        }
      ]
    },
    {
      "cell_type": "code",
      "source": [
        "print(\"안녕\\b반갑습니다\")"
      ],
      "metadata": {
        "colab": {
          "base_uri": "https://localhost:8080/"
        },
        "id": "AXO3diRH9pnk",
        "outputId": "b0ceeb5b-8137-4f27-81dd-ebbb7bdbb364"
      },
      "execution_count": null,
      "outputs": [
        {
          "output_type": "stream",
          "name": "stdout",
          "text": [
            "안녕\b반갑습니다\n"
          ]
        }
      ]
    },
    {
      "cell_type": "code",
      "source": [
        "print(\"안녕\\'반갑습니다\\'\")"
      ],
      "metadata": {
        "colab": {
          "base_uri": "https://localhost:8080/"
        },
        "id": "Zyg9IQuz93H2",
        "outputId": "a1156664-d802-43a4-fe19-37aac4ab88ac"
      },
      "execution_count": null,
      "outputs": [
        {
          "output_type": "stream",
          "name": "stdout",
          "text": [
            "안녕'반갑습니다'\n"
          ]
        }
      ]
    },
    {
      "cell_type": "code",
      "source": [
        "print(\"안녕\\\"반갑습니다\\\"\")"
      ],
      "metadata": {
        "colab": {
          "base_uri": "https://localhost:8080/"
        },
        "id": "3Xfsj2r098xd",
        "outputId": "b1dbec3f-d1c3-4819-db72-3aee742cf2eb"
      },
      "execution_count": null,
      "outputs": [
        {
          "output_type": "stream",
          "name": "stdout",
          "text": [
            "안녕\"반갑습니다\"\n"
          ]
        }
      ]
    },
    {
      "cell_type": "code",
      "source": [
        "print(\"안녕\\\\반갑습니다\")"
      ],
      "metadata": {
        "colab": {
          "base_uri": "https://localhost:8080/"
        },
        "id": "6zFpNWID-Cay",
        "outputId": "39b8996c-ca21-4a32-99dc-364bb8fbdc17"
      },
      "execution_count": null,
      "outputs": [
        {
          "output_type": "stream",
          "name": "stdout",
          "text": [
            "안녕\\반갑습니다\n"
          ]
        }
      ]
    },
    {
      "cell_type": "code",
      "source": [
        "var = \"안녕\" + \"반갑습니다\"\n",
        "print(var)"
      ],
      "metadata": {
        "colab": {
          "base_uri": "https://localhost:8080/"
        },
        "id": "VH5-EqsC-HKL",
        "outputId": "ebe2e4d0-9051-4580-9f5b-ba319c785028"
      },
      "execution_count": null,
      "outputs": [
        {
          "output_type": "stream",
          "name": "stdout",
          "text": [
            "안녕반갑습니다\n"
          ]
        }
      ]
    },
    {
      "cell_type": "code",
      "source": [
        "var = \"안녕\"\n",
        "var += \"반갑습니다\"\n",
        "print(var)"
      ],
      "metadata": {
        "colab": {
          "base_uri": "https://localhost:8080/"
        },
        "id": "n8cMpWWs-QlL",
        "outputId": "390141c7-c480-4b6c-b0a9-c3637b8d2e97"
      },
      "execution_count": null,
      "outputs": [
        {
          "output_type": "stream",
          "name": "stdout",
          "text": [
            "안녕반갑습니다\n"
          ]
        }
      ]
    },
    {
      "cell_type": "markdown",
      "source": [
        "**var += \"반갑습니다\"**  <->  var = var + \"반갑습니다\""
      ],
      "metadata": {
        "id": "dbR7peGb-dRW"
      }
    },
    {
      "cell_type": "markdown",
      "source": [
        "**[주의]** 문자열과 숫자는 데이터형이 다르기 때문에 더할 수 없다. (뺄셈, 나눗셈도 마찬가지)\n",
        "\n",
        "그러나 **곱연산은 가능하다. <같은 문자열은 연속하라는 의미>**"
      ],
      "metadata": {
        "id": "iRhsM1w6_DYA"
      }
    },
    {
      "cell_type": "code",
      "source": [
        "var = \"안녕하세요\"\n",
        "var += 3\n",
        "print(var)"
      ],
      "metadata": {
        "colab": {
          "base_uri": "https://localhost:8080/",
          "height": 182
        },
        "id": "gHKLmATI_NIp",
        "outputId": "efc456c7-67be-48a0-f445-0fc0e6bda7e6"
      },
      "execution_count": null,
      "outputs": [
        {
          "output_type": "error",
          "ename": "TypeError",
          "evalue": "can only concatenate str (not \"int\") to str",
          "traceback": [
            "\u001b[0;31m---------------------------------------------------------------------------\u001b[0m",
            "\u001b[0;31mTypeError\u001b[0m                                 Traceback (most recent call last)",
            "\u001b[0;32m/tmp/ipython-input-28-669602097.py\u001b[0m in \u001b[0;36m<cell line: 0>\u001b[0;34m()\u001b[0m\n\u001b[1;32m      1\u001b[0m \u001b[0mvar\u001b[0m \u001b[0;34m=\u001b[0m \u001b[0;34m\"안녕하세요\"\u001b[0m\u001b[0;34m\u001b[0m\u001b[0;34m\u001b[0m\u001b[0m\n\u001b[0;32m----> 2\u001b[0;31m \u001b[0mvar\u001b[0m \u001b[0;34m+=\u001b[0m \u001b[0;36m3\u001b[0m\u001b[0;34m\u001b[0m\u001b[0;34m\u001b[0m\u001b[0m\n\u001b[0m\u001b[1;32m      3\u001b[0m \u001b[0mprint\u001b[0m\u001b[0;34m(\u001b[0m\u001b[0mvar\u001b[0m\u001b[0;34m)\u001b[0m\u001b[0;34m\u001b[0m\u001b[0;34m\u001b[0m\u001b[0m\n",
            "\u001b[0;31mTypeError\u001b[0m: can only concatenate str (not \"int\") to str"
          ]
        }
      ]
    },
    {
      "cell_type": "code",
      "source": [
        "var = \"안녕하세요\"\n",
        "var *= 3\n",
        "print(var)"
      ],
      "metadata": {
        "colab": {
          "base_uri": "https://localhost:8080/"
        },
        "id": "nF-QlUg__rY0",
        "outputId": "3dada9d7-4df3-4f3a-8bb4-c38a64b2cb71"
      },
      "execution_count": null,
      "outputs": [
        {
          "output_type": "stream",
          "name": "stdout",
          "text": [
            "안녕하세요안녕하세요안녕하세요\n"
          ]
        }
      ]
    },
    {
      "cell_type": "markdown",
      "source": [
        "# **직접해보기**\n",
        "\n",
        "[Re. 2] 두 단어를 입력받고, 해당 언어가 2번씩 반복되어 붙어서 출력되는 프로그램을 만드세요. (단, 위에서 한 방법과는 다른 방법으로 해결할 것)\n",
        "\n",
        "단어 --> 사탕\n",
        "\n",
        "단어 --> 초콜릿\n",
        "\n",
        "사탕사탕초콜릿초콜릿"
      ],
      "metadata": {
        "id": "2fDmlMXT_6A2"
      }
    },
    {
      "cell_type": "code",
      "source": [
        "word1 = input(\"단어 --> \")\n",
        "word2 = input(\"단어 --> \")\n",
        "word1 *= 2\n",
        "word2 *= 2\n",
        "word_T = word1 + word2\n",
        "print(word_T)"
      ],
      "metadata": {
        "colab": {
          "base_uri": "https://localhost:8080/"
        },
        "id": "jbWSfvktAEGt",
        "outputId": "85d7cc9d-7b7b-4ace-9114-d035df530806"
      },
      "execution_count": null,
      "outputs": [
        {
          "output_type": "stream",
          "name": "stdout",
          "text": [
            "단어 --> 사탕\n",
            "단어 --> 초콜릿\n",
            "사탕사탕초콜릿초콜릿\n"
          ]
        }
      ]
    },
    {
      "cell_type": "markdown",
      "source": [
        "[1] 아래와 같이 출력되도록 이스케이프 문자를 사용하여 구현하세요.\n",
        "\n",
        "줄바꿈\n",
        "\n",
        "연습\n",
        "\n",
        "          탭키    연습\n",
        "글자가 \"강조\"되는 효과1\n",
        "\n",
        "글자가 '강조'되는 효과2\n",
        "\n",
        "\\\\\\\\\\ 역슬래쉬 세개 출력\n",
        "\n",
        "\\n, \\t, \\\\\" \\\\\\를 그대로 출력."
      ],
      "metadata": {
        "id": "m7gtxYV7BA-y"
      }
    },
    {
      "cell_type": "code",
      "source": [
        "print(\"줄바꿈\\n연습\")\n",
        "print(\"\\t탭키\\t연습\")\n",
        "print(\"글자가 \\\"강조\\\"되는 효과1\\n글자가 \\'강조\\'되는 효과2\")\n",
        "print(\"\\\\\\\\\\\\ 역슬래쉬 세개 출력\")\n",
        "print('\\\\n \\\\t \\\\\" \\\\\\를 그대로 출력')"
      ],
      "metadata": {
        "colab": {
          "base_uri": "https://localhost:8080/"
        },
        "id": "Ux6zkxdyBkl4",
        "outputId": "df4d5729-ff1a-4823-9756-c129daa7a942"
      },
      "execution_count": null,
      "outputs": [
        {
          "output_type": "stream",
          "name": "stdout",
          "text": [
            "줄바꿈\n",
            "연습\n",
            "\t탭키\t연습\n",
            "글자가 \"강조\"되는 효과1\n",
            "글자가 '강조'되는 효과2\n",
            "\\\\\\ 역슬래쉬 세개 출력\n",
            "\\n \\t \\\" \\\\를 그대로 출력\n"
          ]
        }
      ]
    },
    {
      "cell_type": "markdown",
      "source": [
        "# **6. 문자열 관련 함수**\n",
        "\n",
        "**1) len()**\n",
        "\n",
        "문자열의 길이를 파악하는 함수.\n",
        "\n",
        "한글, 기호, 영문, 공백, 숫자까지 모두 1개의 문자 개수로 취급한다."
      ],
      "metadata": {
        "id": "LnNSVXOgDq1w"
      }
    },
    {
      "cell_type": "code",
      "source": [
        "var = \"안녕하세요! 반갑습니다.\"\n",
        "len(var)"
      ],
      "metadata": {
        "colab": {
          "base_uri": "https://localhost:8080/"
        },
        "id": "s1nH1aCZD8cd",
        "outputId": "78872732-9511-435c-cfa8-04fec39ec74c"
      },
      "execution_count": null,
      "outputs": [
        {
          "output_type": "execute_result",
          "data": {
            "text/plain": [
              "13"
            ]
          },
          "metadata": {},
          "execution_count": 46
        }
      ]
    },
    {
      "cell_type": "markdown",
      "source": [
        "len() 함수는 정수형 / int형을 출력하므로 두 문자열의 길이 차이에 대한 연산도 가능하다."
      ],
      "metadata": {
        "id": "rzyVGHbqEWt_"
      }
    },
    {
      "cell_type": "code",
      "source": [
        "var1 = \"안녕하세요!\"\n",
        "var2 = \" 반갑습니다.\"\n",
        "n = len(var1) + len(var2)\n",
        "print(\"두 문자열의 길이 합은\",n,\"입니다.\")"
      ],
      "metadata": {
        "colab": {
          "base_uri": "https://localhost:8080/"
        },
        "id": "S_oZ-9EqEg6E",
        "outputId": "79531c4f-fff8-4ebf-e42b-460d230ca118"
      },
      "execution_count": null,
      "outputs": [
        {
          "output_type": "stream",
          "name": "stdout",
          "text": [
            "두 문자열의 길이 합은 13 입니다.\n"
          ]
        }
      ]
    },
    {
      "cell_type": "code",
      "source": [
        "var1 = \"안녕하세요!\"\n",
        "var2 = \" 반갑습니다.\"\n",
        "n = len(var1) - len(var2)\n",
        "print(\"두 문자열의 길이 차는\",n,\"입니다.\")"
      ],
      "metadata": {
        "colab": {
          "base_uri": "https://localhost:8080/"
        },
        "id": "6Qf5fXdSFAcO",
        "outputId": "e4cc2147-b37b-4a49-c7f8-d890fd834f47"
      },
      "execution_count": null,
      "outputs": [
        {
          "output_type": "stream",
          "name": "stdout",
          "text": [
            "두 문자열의 길이 차는 -1 입니다.\n"
          ]
        }
      ]
    },
    {
      "cell_type": "markdown",
      "source": [
        "**2) upper(), lower()**\n",
        "\n",
        "\n",
        "*   upper() : 소문자 -> 대문자로 바꾸어주는 함수\n",
        "*   lower() : 대문자 -> 소문자로 바꾸어주는 함수\n",
        "\n",
        "len() 함수와는 다르게 '문자열.upper()', '문자열.lower()'형식으로 사용해야한다. 그리고 그 결과값을 대입연산자로 반환받아 사용해야 한다."
      ],
      "metadata": {
        "id": "oku3wmchFWNA"
      }
    },
    {
      "cell_type": "code",
      "source": [
        "var1 = \"apple\"\n",
        "var2 = var1.upper()\n",
        "print(var2)"
      ],
      "metadata": {
        "colab": {
          "base_uri": "https://localhost:8080/"
        },
        "id": "_-NOiFD8GK0Y",
        "outputId": "ba80c7fb-ca06-4187-efea-e681df67666a"
      },
      "execution_count": null,
      "outputs": [
        {
          "output_type": "stream",
          "name": "stdout",
          "text": [
            "APPLE\n"
          ]
        }
      ]
    },
    {
      "cell_type": "code",
      "source": [
        "var1 = \"BANANA\"\n",
        "var2 = var1.lower()\n",
        "print(var2)"
      ],
      "metadata": {
        "colab": {
          "base_uri": "https://localhost:8080/"
        },
        "id": "ZsaxpDuyGUtZ",
        "outputId": "47a71582-46a6-4d88-c05b-71c14be53cb2"
      },
      "execution_count": null,
      "outputs": [
        {
          "output_type": "stream",
          "name": "stdout",
          "text": [
            "banana\n"
          ]
        }
      ]
    },
    {
      "cell_type": "markdown",
      "source": [
        "영문을 제외한 한글, 숫자, 기호 등은 upper(), lower() 함수의 영향을 받지 않는다."
      ],
      "metadata": {
        "id": "crQCcsAUGkSZ"
      }
    },
    {
      "cell_type": "code",
      "source": [
        "var1 = \"apple이 먹고싶어요!\"\n",
        "var2 = var1.upper()\n",
        "print(var2)"
      ],
      "metadata": {
        "colab": {
          "base_uri": "https://localhost:8080/"
        },
        "id": "0m4MM8vmGqDL",
        "outputId": "93dd6ec9-a18d-4e2e-bc4c-9d74e473c8f7"
      },
      "execution_count": null,
      "outputs": [
        {
          "output_type": "stream",
          "name": "stdout",
          "text": [
            "APPLE이 먹고싶어요!\n"
          ]
        }
      ]
    },
    {
      "cell_type": "markdown",
      "source": [
        "**3) isupper(), islower()**\n",
        "\n",
        "*   isupper() : 문자열이 모두 대문자라면 True, 소문자가 섞여 있다면 False를 반환.\n",
        "*   islower() : 문자열이 모두 소문자라면 True, 대문자가 섞여 있다면 False를 반환.\n",
        "\n"
      ],
      "metadata": {
        "id": "vU2bxy4WG5bX"
      }
    },
    {
      "cell_type": "code",
      "source": [
        "var = \"APPLE\"\n",
        "var.isupper()"
      ],
      "metadata": {
        "colab": {
          "base_uri": "https://localhost:8080/"
        },
        "id": "Xx9zX8EIHQyZ",
        "outputId": "5cd7b628-a897-4d0e-fc3a-395aa16d074b"
      },
      "execution_count": null,
      "outputs": [
        {
          "output_type": "execute_result",
          "data": {
            "text/plain": [
              "True"
            ]
          },
          "metadata": {},
          "execution_count": 56
        }
      ]
    },
    {
      "cell_type": "code",
      "source": [
        "var = \"APPLE\"\n",
        "var.islower()"
      ],
      "metadata": {
        "colab": {
          "base_uri": "https://localhost:8080/"
        },
        "id": "O_r96C7gHY0K",
        "outputId": "3083e54e-8aa3-4bd7-aeb8-9977244d83eb"
      },
      "execution_count": null,
      "outputs": [
        {
          "output_type": "execute_result",
          "data": {
            "text/plain": [
              "False"
            ]
          },
          "metadata": {},
          "execution_count": 57
        }
      ]
    },
    {
      "cell_type": "code",
      "source": [
        "var = \"Apple\"\n",
        "var.isupper()"
      ],
      "metadata": {
        "colab": {
          "base_uri": "https://localhost:8080/"
        },
        "id": "sFuvnuGhHdZS",
        "outputId": "6435b1d3-ffcd-45b5-9de6-233f648981d3"
      },
      "execution_count": null,
      "outputs": [
        {
          "output_type": "execute_result",
          "data": {
            "text/plain": [
              "False"
            ]
          },
          "metadata": {},
          "execution_count": 58
        }
      ]
    },
    {
      "cell_type": "code",
      "source": [
        "var = \"APPLE\"\n",
        "var.islower()"
      ],
      "metadata": {
        "colab": {
          "base_uri": "https://localhost:8080/"
        },
        "id": "sa0BIxZ9Hhtp",
        "outputId": "5a8aea0f-96c5-419c-8dad-22c0083e8868"
      },
      "execution_count": null,
      "outputs": [
        {
          "output_type": "execute_result",
          "data": {
            "text/plain": [
              "False"
            ]
          },
          "metadata": {},
          "execution_count": 59
        }
      ]
    },
    {
      "cell_type": "markdown",
      "source": [
        "**4) count()**\n",
        "\n",
        "해당 문자열에서 어떠한 글자가 몇 번 등장하는지 반환."
      ],
      "metadata": {
        "id": "yWPdD_Q3HneI"
      }
    },
    {
      "cell_type": "code",
      "source": [
        "var = \"APPLE\"\n",
        "var.count(\"P\")"
      ],
      "metadata": {
        "colab": {
          "base_uri": "https://localhost:8080/"
        },
        "id": "vyPcx_zOHvyp",
        "outputId": "3ccbd333-0ca5-47ce-afd1-2a4919b4b55d"
      },
      "execution_count": null,
      "outputs": [
        {
          "output_type": "execute_result",
          "data": {
            "text/plain": [
              "2"
            ]
          },
          "metadata": {},
          "execution_count": 60
        }
      ]
    },
    {
      "cell_type": "code",
      "source": [
        "var = \"APPLE\"\n",
        "var.count(\"p\")"
      ],
      "metadata": {
        "colab": {
          "base_uri": "https://localhost:8080/"
        },
        "id": "XRJU03v6HztE",
        "outputId": "18c2e821-2d86-4c00-967e-a87a808ffdc2"
      },
      "execution_count": null,
      "outputs": [
        {
          "output_type": "execute_result",
          "data": {
            "text/plain": [
              "0"
            ]
          },
          "metadata": {},
          "execution_count": 61
        }
      ]
    },
    {
      "cell_type": "markdown",
      "source": [
        "한글로 된 문자열에서도 사용 가능하다."
      ],
      "metadata": {
        "id": "fAs0WvC1tFaK"
      }
    },
    {
      "cell_type": "code",
      "source": [
        "var = \"사과바나나사과메론\"\n",
        "var.count(\"사과\")"
      ],
      "metadata": {
        "colab": {
          "base_uri": "https://localhost:8080/"
        },
        "id": "XRRg-rUWtCmG",
        "outputId": "56112017-e706-4900-d422-e77b21f54f5a"
      },
      "execution_count": 6,
      "outputs": [
        {
          "output_type": "execute_result",
          "data": {
            "text/plain": [
              "2"
            ]
          },
          "metadata": {},
          "execution_count": 6
        }
      ]
    },
    {
      "cell_type": "markdown",
      "source": [
        "**5) find()**\n",
        "\n",
        "어떠한 글자가 문자열 중 몇 번째에 위치하는지 변환하는 함수.\n",
        "\n",
        "[Some rules]\n",
        "\n",
        "*   0부터 시작한다.\n",
        "*   공백도 하나의 문자로 취급한다.\n",
        "*   동일한 문자가 여러번 나올 경우, 왼쪽에서부터 먼저 찾은 것의 위치를 출력한다.\n",
        "*   find(\"찾으려는 문자열\", 시작위치) 로 찾기 시작하는 위치를 지정할 수 있다.\n",
        "\n"
      ],
      "metadata": {
        "id": "SSQ7T6Sqtfe0"
      }
    },
    {
      "cell_type": "code",
      "source": [
        "var = \"사과바나나사과메론\"\n",
        "var.find(\"바\")"
      ],
      "metadata": {
        "colab": {
          "base_uri": "https://localhost:8080/"
        },
        "id": "jA49OPjjtwLS",
        "outputId": "9305daab-e257-4687-eff5-113611b53690"
      },
      "execution_count": 7,
      "outputs": [
        {
          "output_type": "execute_result",
          "data": {
            "text/plain": [
              "2"
            ]
          },
          "metadata": {},
          "execution_count": 7
        }
      ]
    },
    {
      "cell_type": "code",
      "source": [
        "var = \"사과 바나나 사과 메론\"\n",
        "var.find(\"바\")"
      ],
      "metadata": {
        "colab": {
          "base_uri": "https://localhost:8080/"
        },
        "id": "zxgw6vK-uCE-",
        "outputId": "820f1b78-e566-4c35-8be6-7e53fb5ea3f7"
      },
      "execution_count": 8,
      "outputs": [
        {
          "output_type": "execute_result",
          "data": {
            "text/plain": [
              "3"
            ]
          },
          "metadata": {},
          "execution_count": 8
        }
      ]
    },
    {
      "cell_type": "code",
      "source": [
        "var = \"사과바나나사과메론\"\n",
        "var.find(\"사과\")"
      ],
      "metadata": {
        "colab": {
          "base_uri": "https://localhost:8080/"
        },
        "id": "xi9Wuo6wuxYu",
        "outputId": "d4b7b206-bd2e-4d29-faab-7a95736aaa06"
      },
      "execution_count": 14,
      "outputs": [
        {
          "output_type": "execute_result",
          "data": {
            "text/plain": [
              "0"
            ]
          },
          "metadata": {},
          "execution_count": 14
        }
      ]
    },
    {
      "cell_type": "code",
      "source": [
        "var = \"사과바나나사과메론\"\n",
        "var.find(\"사과\", 2)"
      ],
      "metadata": {
        "colab": {
          "base_uri": "https://localhost:8080/"
        },
        "id": "G3COtUVtvGDV",
        "outputId": "00f4da4e-1e0d-4e95-d91c-4a20060b443e"
      },
      "execution_count": 15,
      "outputs": [
        {
          "output_type": "execute_result",
          "data": {
            "text/plain": [
              "5"
            ]
          },
          "metadata": {},
          "execution_count": 15
        }
      ]
    },
    {
      "cell_type": "markdown",
      "source": [
        "**6) 문자열[번호]**\n",
        "\n",
        "각 문자에는 순서가 있으므로, 문자열[번호]를 사용하여 한 글자씩 접근할 수 있다."
      ],
      "metadata": {
        "id": "4THlHMYrvWNu"
      }
    },
    {
      "cell_type": "code",
      "source": [
        "var = \"사과바나나사과메론\"\n",
        "print(var[0])\n",
        "print(var[1])"
      ],
      "metadata": {
        "colab": {
          "base_uri": "https://localhost:8080/"
        },
        "id": "ZyrazX0Nvlxe",
        "outputId": "406fe858-2820-4718-fb76-b34fb965a59b"
      },
      "execution_count": 17,
      "outputs": [
        {
          "output_type": "stream",
          "name": "stdout",
          "text": [
            "사\n",
            "과\n"
          ]
        }
      ]
    },
    {
      "cell_type": "markdown",
      "source": [
        "길이를 넘어서는 위치를 선택하면 Error"
      ],
      "metadata": {
        "id": "IfcOkVjBv1pj"
      }
    },
    {
      "cell_type": "code",
      "source": [
        "var = \"사과바나나사과메론\"\n",
        "print(var[10])"
      ],
      "metadata": {
        "colab": {
          "base_uri": "https://localhost:8080/",
          "height": 164
        },
        "id": "_TMgEBlkv5Aj",
        "outputId": "c5ddff3f-46cd-490b-c69f-45c42ed40140"
      },
      "execution_count": 18,
      "outputs": [
        {
          "output_type": "error",
          "ename": "IndexError",
          "evalue": "string index out of range",
          "traceback": [
            "\u001b[0;31m---------------------------------------------------------------------------\u001b[0m",
            "\u001b[0;31mIndexError\u001b[0m                                Traceback (most recent call last)",
            "\u001b[0;32m/tmp/ipython-input-18-3503808064.py\u001b[0m in \u001b[0;36m<cell line: 0>\u001b[0;34m()\u001b[0m\n\u001b[1;32m      1\u001b[0m \u001b[0mvar\u001b[0m \u001b[0;34m=\u001b[0m \u001b[0;34m\"사과바나나사과메론\"\u001b[0m\u001b[0;34m\u001b[0m\u001b[0;34m\u001b[0m\u001b[0m\n\u001b[0;32m----> 2\u001b[0;31m \u001b[0mprint\u001b[0m\u001b[0;34m(\u001b[0m\u001b[0mvar\u001b[0m\u001b[0;34m[\u001b[0m\u001b[0;36m10\u001b[0m\u001b[0;34m]\u001b[0m\u001b[0;34m)\u001b[0m\u001b[0;34m\u001b[0m\u001b[0;34m\u001b[0m\u001b[0m\n\u001b[0m",
            "\u001b[0;31mIndexError\u001b[0m: string index out of range"
          ]
        }
      ]
    },
    {
      "cell_type": "markdown",
      "source": [
        "# **직접해보기**\n",
        "\n",
        "[2] 다음과 같은 결과가 나오도록 코드를 작성하여라. 단, 첫 행은 다음과 같이 선언한다.\n",
        "\n",
        "*첫 행: ss = \"오렌지를 먹고싶어요! Orange. ^^\"\n",
        "\n",
        "-------------------------------------------\n",
        "\n",
        "원본 문자열 : 오렌지를 먹고싶어요! Orange. ^^\n",
        "\n",
        "모두 대문자로 : 오렌지를 먹고싶어요! ORANGE. ^^\n",
        "\n",
        "모두 소문자로 : 오렌지를 먹고싶어요! orange. ^^\n",
        "\n",
        "문자의 길이는 22\n",
        "\n",
        "Orange의 시작 위치는 12\n",
        "\n",
        "-------------------------------------------"
      ],
      "metadata": {
        "id": "Et0oRdFGwQFj"
      }
    },
    {
      "cell_type": "code",
      "source": [
        "ss = \"오렌지를 먹고싶어요! Orange. ^^\"\n",
        "print(\"원본 문자열 : \", ss)\n",
        "print(\"모두 대문자로 : \", ss.upper())\n",
        "print(\"모두 소문자로 : \", ss.lower())\n",
        "print(\"문자의 길이는\", len(ss))\n",
        "print(\"Orange의 시작 위치는\", ss.find(\"Orange\"))"
      ],
      "metadata": {
        "colab": {
          "base_uri": "https://localhost:8080/"
        },
        "id": "WTebGzCdwu9m",
        "outputId": "ce1aa3d4-53cc-4eac-9d42-12afeacb51c3"
      },
      "execution_count": 19,
      "outputs": [
        {
          "output_type": "stream",
          "name": "stdout",
          "text": [
            "원본 문자열 :  오렌지를 먹고싶어요! Orange. ^^\n",
            "모두 대문자로 :  오렌지를 먹고싶어요! ORANGE. ^^\n",
            "모두 소문자로 :  오렌지를 먹고싶어요! orange. ^^\n",
            "문자의 길이는 22\n",
            "Orange의 시작 위치는 12\n"
          ]
        }
      ]
    },
    {
      "cell_type": "markdown",
      "source": [
        "[3] 대문자는 소문자로, 소문자는 대문자로 변환하는 프로그램을 만드세요.\n",
        "\n",
        "-------------------------------------------\n",
        "원본 문자열 --> ORAnge\n",
        "\n",
        "변환 문자열 --> oraNGE\n",
        "\n",
        "-------------------------------------------"
      ],
      "metadata": {
        "id": "xLnfFKVhx-FA"
      }
    },
    {
      "cell_type": "code",
      "source": [
        "ss = \"ORAnge\"\n",
        "print(\"원본 문자열 --> \", ss)\n",
        "ss2 = ss[:3].lower() + ss[3:].upper()\n",
        "print(\"변환 문자열 --> \", ss2)"
      ],
      "metadata": {
        "colab": {
          "base_uri": "https://localhost:8080/"
        },
        "id": "VfI39o-JyBow",
        "outputId": "cb77fa07-ea5b-49ff-9469-b865f6b1ab15"
      },
      "execution_count": 22,
      "outputs": [
        {
          "output_type": "stream",
          "name": "stdout",
          "text": [
            "원본 문자열 -->  ORAnge\n",
            "변환 문자열 -->  oraNGE\n"
          ]
        }
      ]
    },
    {
      "cell_type": "markdown",
      "source": [
        "***Another Solution)***"
      ],
      "metadata": {
        "id": "Mb0lKy0szSsk"
      }
    },
    {
      "cell_type": "code",
      "source": [
        "ss = \"ORAnge\"\n",
        "print(\"원본 문자열 --> \", ss)\n",
        "ss2 = \"\"\n",
        "ss2 += ss[0].lower()\n",
        "ss2 += ss[1].lower()\n",
        "ss2 += ss[2].lower()\n",
        "ss2 += ss[3].upper()\n",
        "ss2 += ss[4].upper()\n",
        "ss2 += ss[5].upper()\n",
        "print(\"변환 문자열 --> \", ss2)"
      ],
      "metadata": {
        "colab": {
          "base_uri": "https://localhost:8080/"
        },
        "id": "dnlBohhTzQ3-",
        "outputId": "4d2602be-8c54-45f1-c3f7-e4e23421a61b"
      },
      "execution_count": 23,
      "outputs": [
        {
          "output_type": "stream",
          "name": "stdout",
          "text": [
            "원본 문자열 -->  ORAnge\n",
            "변환 문자열 -->  oraNGE\n"
          ]
        }
      ]
    },
    {
      "cell_type": "markdown",
      "source": [
        "[4] 문자열을 거꾸로 출력하는 프로그램을 만드세요.\n",
        "\n",
        "-------------------------------------------\n",
        "\n",
        "원본 문자열 --> 안녕하세요\n",
        "\n",
        "변환 문자열 --> 요세하녕안\n",
        "\n",
        "-------------------------------------------"
      ],
      "metadata": {
        "id": "MUGIAyOuz0-G"
      }
    },
    {
      "cell_type": "code",
      "source": [
        "ss = \"안녕하세요\"\n",
        "print(\"원본 문자열 --> \", ss)\n",
        "ss2 = \"\"\n",
        "ss2 += ss[4]\n",
        "ss2 += ss[3]\n",
        "ss2 += ss[2]\n",
        "ss2 += ss[1]\n",
        "ss2 += ss[0]\n",
        "print(\"변환 문자열 --> \", ss2)"
      ],
      "metadata": {
        "colab": {
          "base_uri": "https://localhost:8080/"
        },
        "id": "Ab2E0-lh0F8W",
        "outputId": "904d29ab-b386-4d2d-bb6c-d7be8bc38d86"
      },
      "execution_count": 24,
      "outputs": [
        {
          "output_type": "stream",
          "name": "stdout",
          "text": [
            "원본 문자열 -->  안녕하세요\n",
            "변환 문자열 -->  요세하녕안\n"
          ]
        }
      ]
    },
    {
      "cell_type": "markdown",
      "source": [
        "***Another Solution)***\n",
        "\n",
        "```\n",
        "# 코드로 형식 지정됨\n",
        "```\n",
        "\n"
      ],
      "metadata": {
        "id": "VUroW-Q70law"
      }
    },
    {
      "cell_type": "code",
      "source": [
        "ss = \"안녕하세요\"\n",
        "print(\"원본 문자열 --> \", ss)\n",
        "ss2 = ss[4]+ss[3]+ss[2]+ss[1]+ss[0]\n",
        "print(\"변환 문자열 --> \", ss2)"
      ],
      "metadata": {
        "colab": {
          "base_uri": "https://localhost:8080/"
        },
        "id": "TmjaU7J40amb",
        "outputId": "42e79153-9e6c-4384-a86b-4eabd060c289"
      },
      "execution_count": 26,
      "outputs": [
        {
          "output_type": "stream",
          "name": "stdout",
          "text": [
            "원본 문자열 -->  안녕하세요\n",
            "변환 문자열 -->  요세하녕안\n"
          ]
        }
      ]
    }
  ]
}