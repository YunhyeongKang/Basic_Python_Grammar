{
  "nbformat": 4,
  "nbformat_minor": 0,
  "metadata": {
    "colab": {
      "provenance": [],
      "toc_visible": true,
      "authorship_tag": "ABX9TyMd/+xOKm0lJ6WDbOSWpD1b",
      "include_colab_link": true
    },
    "kernelspec": {
      "name": "python3",
      "display_name": "Python 3"
    },
    "language_info": {
      "name": "python"
    }
  },
  "cells": [
    {
      "cell_type": "markdown",
      "metadata": {
        "id": "view-in-github",
        "colab_type": "text"
      },
      "source": [
        "<a href=\"https://colab.research.google.com/github/YunhyeongKang/Basic_Python_Grammar/blob/main/2%EA%B0%95_%5B%EB%B3%80%EC%88%98%EC%99%80_%EC%9E%90%EB%A3%8C%ED%98%95%5D_%EB%B3%80%EC%88%98%EB%9E%80%2C_print%ED%95%A8%EC%88%98.ipynb\" target=\"_parent\"><img src=\"https://colab.research.google.com/assets/colab-badge.svg\" alt=\"Open In Colab\"/></a>"
      ]
    },
    {
      "cell_type": "markdown",
      "source": [
        "# **1. 변수(Variable)**\n",
        "\n",
        "'변수'란 값을 저장하는 메모리 공간, 메모리 주소는 16진수 체계 & 이 주소는 매번 변경 -> 사람이 16진수 형태의 매번 변경되는 메모리 주소를 기억하여 작업하기 곤란함.\n",
        "\n",
        "i.e. 변수란 **\"사람이 기억하기 쉽고 만들기 쉬운 형태의 메모리 주소\"**이다.\n",
        "\n",
        "\n",
        "### 1) 변수 선언: 변수 이름 규칙\n",
        "\n",
        "*   영문자, 숫자, _(underscore)를 사용할 수 있다.\n",
        "*   영문자나 _ 로 시작할 수 있으나, 숫자로는 시작할 수 없다.\n",
        "*   공백을 사용할 수 없다.\n",
        "*   키워드, 연산자의 이름(if, while, def, is 등)을 변수 이름으로 사용할 수 없다.\n",
        "*   변수 이름은 대소분자를 구분한다.\n",
        "\n",
        "ex) \"num\", \"names\", \"x\", \"sum_x\""
      ],
      "metadata": {
        "id": "a5_MEGQoi9yH"
      }
    },
    {
      "cell_type": "code",
      "source": [
        "name = 2\n",
        "_name = 3\n",
        "print(name)\n",
        "print(_name)"
      ],
      "metadata": {
        "colab": {
          "base_uri": "https://localhost:8080/"
        },
        "id": "gLQJAhE1m9qe",
        "outputId": "ed1ca17a-9b5c-41e0-8334-8f3fd9a65055"
      },
      "execution_count": 2,
      "outputs": [
        {
          "output_type": "stream",
          "name": "stdout",
          "text": [
            "2\n",
            "3\n"
          ]
        }
      ]
    },
    {
      "cell_type": "code",
      "source": [
        "name = 2\n",
        "NAME = 3\n",
        "nAmE = 4\n",
        "print(name)\n",
        "print(NAME)\n",
        "print(nAmE)"
      ],
      "metadata": {
        "colab": {
          "base_uri": "https://localhost:8080/"
        },
        "id": "lnfzryJl32qY",
        "outputId": "851c672e-0a54-4b99-f560-e3390514deca"
      },
      "execution_count": 5,
      "outputs": [
        {
          "output_type": "stream",
          "name": "stdout",
          "text": [
            "2\n",
            "3\n",
            "4\n"
          ]
        }
      ]
    },
    {
      "cell_type": "markdown",
      "source": [
        "*   **예약어**는 변수명으로 사용할 수 없다.\n",
        "파이썬이 이미 다른 용도로 사용하고 있는 단어는 변수명으로 사용할 수 없다.\n",
        "\n",
        "[참고: 예약어 목록]\n",
        "\n",
        "   False / class / finally / is / return / continue / None / for / lambda / try / def / from / True / noniocal / while / and / del / global / not / with / as / elif / if / or / yield / assert / else / import / pass / break\n",
        "\n",
        "   **Solution* : \"대소문자 구별\"이라는 특성을 이용해서 변수명을 변형하여 사용하면 된다.\n",
        "   \n",
        "   ex) CLAss, Class, _class, class123\n",
        "\n",
        "\n",
        "### 2) \"a = 5\" : 변수의 할당(저장)\n",
        "수학에서는 '='이 '같다'를 의미하지만, 코딩에서는 **\"오른쪽 값을 왼쪽에 대입해준다/넣어준다\"**라는 의미이다.\n",
        "\n",
        "*+α) 코딩에서의 '같다'는 '=='으로 '='을 2개 사용하여 표기한다.*"
      ],
      "metadata": {
        "id": "PEBOso2Z4xY0"
      }
    },
    {
      "cell_type": "code",
      "source": [
        "a = 100\n",
        "b = 200\n",
        "c = 5.2\n",
        "d = \"Hello\"\n",
        "print(a)\n",
        "print(b)\n",
        "print(c)\n",
        "print(d)"
      ],
      "metadata": {
        "colab": {
          "base_uri": "https://localhost:8080/"
        },
        "id": "FrqwNORI_Cw3",
        "outputId": "d674b570-7c70-4c76-ed70-582547760e69"
      },
      "execution_count": 8,
      "outputs": [
        {
          "output_type": "stream",
          "name": "stdout",
          "text": [
            "100\n",
            "200\n",
            "5.2\n",
            "Hello\n"
          ]
        }
      ]
    },
    {
      "cell_type": "markdown",
      "source": [
        "# **2. print() 함수**\n",
        "\n",
        "print() 함수는 **출력하는 함수**이다. () 안의 내용을 한번에 출력한다. 만약 괄호 안에서 여러 개를 출력하고 싶다면 comma(,)로 구분해야 한다. 숫자, 변수 외에 문자(열)은 큰따옴표 또는 작은따옴표로 묶어야한다.\n",
        "\n",
        "cf) 대부분의 다른 프로그래밍 언어는 문자열을 사용할 때 반드시 큰 따옴표를 사용해야 한다."
      ],
      "metadata": {
        "id": "6CVb57hWAH8X"
      }
    },
    {
      "cell_type": "code",
      "source": [
        "a = 100\n",
        "b = 200\n",
        "c = a + b\n",
        "d = a - b\n",
        "e = a * b\n",
        "f = a / b\n",
        "print(a)\n",
        "print(a, b)\n",
        "print(c)\n",
        "print(a, \"+\", b, '=', c)\n",
        "print(a, \"-\", b, '=', d)\n",
        "print(a, \"*\", b, '=', e)\n",
        "print(a, \"/\", b, '=', f)"
      ],
      "metadata": {
        "colab": {
          "base_uri": "https://localhost:8080/"
        },
        "id": "WfsnoncqAnPM",
        "outputId": "2d524a1d-4b20-4cc3-b034-6f1e0c30cd86"
      },
      "execution_count": 11,
      "outputs": [
        {
          "output_type": "stream",
          "name": "stdout",
          "text": [
            "100\n",
            "100 200\n",
            "300\n",
            "100 + 200 = 300\n",
            "100 - 200 = -100\n",
            "100 * 200 = 20000\n",
            "100 / 200 = 0.5\n"
          ]
        }
      ]
    },
    {
      "cell_type": "code",
      "source": [
        "a = \"안녕하세요,\"\n",
        "b = \"처음 뵙겠습니다.\"\n",
        "print(a,b)"
      ],
      "metadata": {
        "colab": {
          "base_uri": "https://localhost:8080/"
        },
        "id": "FrUK7DnnB5SN",
        "outputId": "6854429d-ef4d-40bc-ee0d-e6b0a43f9bfb"
      },
      "execution_count": 12,
      "outputs": [
        {
          "output_type": "stream",
          "name": "stdout",
          "text": [
            "안녕하세요, 처음 뵙겠습니다.\n"
          ]
        }
      ]
    },
    {
      "cell_type": "markdown",
      "source": [
        "-> print() 함수에서 comma(,)로 된 곳에는 중간에 빈 칸이 하나 들어간다."
      ],
      "metadata": {
        "id": "rs7Ecdh-CGZO"
      }
    },
    {
      "cell_type": "code",
      "source": [
        "a = \"안녕하세요\"\n",
        "b = \"처음 뵙겠습니다\"\n",
        "result = a+b\n",
        "print(result)"
      ],
      "metadata": {
        "colab": {
          "base_uri": "https://localhost:8080/"
        },
        "id": "XRbb6Wb5ChIv",
        "outputId": "13dc0ca3-7d41-472c-fd94-bf64606330b2"
      },
      "execution_count": 13,
      "outputs": [
        {
          "output_type": "stream",
          "name": "stdout",
          "text": [
            "안녕하세요처음 뵙겠습니다\n"
          ]
        }
      ]
    },
    {
      "cell_type": "markdown",
      "source": [
        "-> '더하기'로 이어줬을 경우에는 띄어쓰기가 없이 붙어서 이어진다.\n",
        "\n",
        "*+α) 문자열에서는 빼기, 곱하기, 나누기 연산자는 지원하지 않는다.*\n",
        "\n",
        "\n",
        "# **3. input() 함수**\n",
        "\n",
        "input() 함수는 사용자로부터 키보드로 **입력받도록 도와주는 함수**이다. input() 함수가 실행되면 사용자의 입력을 기다리는 창이 실행된다. 이 때, 사용자의 입력이 있어야만 그 다음으로 넘어갈 수 있다. 사용자고 무언가를 입력하면 입력받은 것을 출력한다. **이때 input() 함수에서 입력받은 값을 변수에 저장하지 않으므로 출력한 후 그냥 사라진다.**"
      ],
      "metadata": {
        "id": "V03yJFbvCu8l"
      }
    },
    {
      "cell_type": "code",
      "source": [
        "input()"
      ],
      "metadata": {
        "colab": {
          "base_uri": "https://localhost:8080/",
          "height": 54
        },
        "id": "x6T890UiESPW",
        "outputId": "a97d7134-b094-4093-c3b6-dc5901272c62"
      },
      "execution_count": 14,
      "outputs": [
        {
          "name": "stdout",
          "output_type": "stream",
          "text": [
            "안녕하세요\n"
          ]
        },
        {
          "output_type": "execute_result",
          "data": {
            "text/plain": [
              "'안녕하세요'"
            ],
            "application/vnd.google.colaboratory.intrinsic+json": {
              "type": "string"
            }
          },
          "metadata": {},
          "execution_count": 14
        }
      ]
    },
    {
      "cell_type": "code",
      "source": [
        "a = input(\"숫자를 입력해주십시오: \")"
      ],
      "metadata": {
        "colab": {
          "base_uri": "https://localhost:8080/"
        },
        "id": "fZjTNF8eEdYo",
        "outputId": "a975505f-4e76-4cb7-8761-2e90c66b628b"
      },
      "execution_count": 17,
      "outputs": [
        {
          "name": "stdout",
          "output_type": "stream",
          "text": [
            "숫자를 입력해주십시오: 100\n"
          ]
        }
      ]
    },
    {
      "cell_type": "code",
      "source": [
        "a = input(\"숫자1 : \")\n",
        "b = input(\"숫자2 : \")\n",
        "c = a+b\n",
        "print(c)"
      ],
      "metadata": {
        "colab": {
          "base_uri": "https://localhost:8080/"
        },
        "id": "7pKTuA6iE39F",
        "outputId": "05849188-6350-47f5-b635-53ce13ac02d8"
      },
      "execution_count": 18,
      "outputs": [
        {
          "output_type": "stream",
          "name": "stdout",
          "text": [
            "숫자1 : 1\n",
            "숫자2 : 10\n",
            "110\n"
          ]
        }
      ]
    },
    {
      "cell_type": "markdown",
      "source": [
        "결과를 보면 1+10=11이 아닌 110이 출력된 것을 확인할 수 있다. 그 원인은 **input() 함수는 입력받은 값을 모두 문자열로 취급**하기 때문이다. 1은 '숫자 1'이 아닌 '문자 1'로, 10도 '숫자 10'이 아닌 '문자열 10'으로 취급한 것이다. input() 함수로 입력받은 것을 숫자로 사용하기 위해서는 입력받은 문자열을 다시 int() 함수를 이용하여 정수로 변환해야 한다.\n",
        "\n",
        "*int() 함수: ()안의 값이 무엇이든지 정수로 변환해주는 함수"
      ],
      "metadata": {
        "id": "CrfMNdTvFL4U"
      }
    },
    {
      "cell_type": "code",
      "source": [
        "a = int(input(\"숫자 1 : \"))\n",
        "b = int(input(\"숫자 2 : \"))\n",
        "c = a+b\n",
        "print(c)"
      ],
      "metadata": {
        "colab": {
          "base_uri": "https://localhost:8080/"
        },
        "id": "TwtSiof5GAkO",
        "outputId": "22a020f3-1ff3-4aef-9774-65d9aab612e5"
      },
      "execution_count": 19,
      "outputs": [
        {
          "output_type": "stream",
          "name": "stdout",
          "text": [
            "숫자 1 : 1\n",
            "숫자 2 : 10\n",
            "11\n"
          ]
        }
      ]
    },
    {
      "cell_type": "code",
      "source": [
        "print(int(3.2))\n",
        "print(int(\"110\"))"
      ],
      "metadata": {
        "colab": {
          "base_uri": "https://localhost:8080/"
        },
        "id": "J4xQI9koGZW9",
        "outputId": "0d84a15e-d00c-4067-9b59-bddc0d89bc27"
      },
      "execution_count": 20,
      "outputs": [
        {
          "output_type": "stream",
          "name": "stdout",
          "text": [
            "3\n",
            "110\n"
          ]
        }
      ]
    },
    {
      "cell_type": "markdown",
      "source": [
        "위처럼 int() 함수는 소숫점을 버린다.\n",
        "\n",
        "\n",
        "# **직접해보기**\n",
        "[1] 두 수를 입력받고, 두 수를 곱한 후 다음과 같이 출력하는 프로그램을 만드세요.\n",
        "\n",
        "숫자 --> 3\n",
        "\n",
        "숫자 --> 5\n",
        "\n",
        "두 수의 곱은 3 * 5 = 15 입니다."
      ],
      "metadata": {
        "id": "s_XR2DTHGiMM"
      }
    },
    {
      "cell_type": "code",
      "source": [
        "num1 = int(input(\"숫자 --> \"))\n",
        "num2 = int(input(\"숫자 --> \"))\n",
        "number = num1*num2\n",
        "print(\"두 수의 곱은\",num1,\"*\",num2,\"=\",number,\"입니다.\")"
      ],
      "metadata": {
        "colab": {
          "base_uri": "https://localhost:8080/"
        },
        "id": "M208rt5BHdtD",
        "outputId": "94ce0541-a0ff-4fba-dc88-22a689eb9a40"
      },
      "execution_count": 22,
      "outputs": [
        {
          "output_type": "stream",
          "name": "stdout",
          "text": [
            "숫자 --> 3\n",
            "숫자 --> 5\n",
            "두 수의 곱은 3 * 5 = 15 입니다.\n"
          ]
        }
      ]
    }
  ]
}