{
  "nbformat": 4,
  "nbformat_minor": 0,
  "metadata": {
    "colab": {
      "provenance": [],
      "authorship_tag": "ABX9TyNxgTMTuU74dAG5iFx/SoS5",
      "include_colab_link": true
    },
    "kernelspec": {
      "name": "python3",
      "display_name": "Python 3"
    },
    "language_info": {
      "name": "python"
    }
  },
  "cells": [
    {
      "cell_type": "markdown",
      "metadata": {
        "id": "view-in-github",
        "colab_type": "text"
      },
      "source": [
        "<a href=\"https://colab.research.google.com/github/YunhyeongKang/Basic_Grammar/blob/Python/6%EA%B0%95_%5B%EB%82%B4%EC%9E%A5_%ED%95%A8%EC%88%98%5D_%EB%82%B4%EC%9E%A5%ED%95%A8%EC%88%98%2C_%EC%8B%A4%EC%8A%B5%EA%B3%BC%EC%A0%9C_%ED%92%80%EC%9D%B4.ipynb\" target=\"_parent\"><img src=\"https://colab.research.google.com/assets/colab-badge.svg\" alt=\"Open In Colab\"/></a>"
      ]
    },
    {
      "cell_type": "markdown",
      "source": [
        "# **13. 내장함수**\n",
        "\n",
        "**[숫자 관련 내장 함수]**\n",
        "\n",
        "**1) abs()**\n",
        "\n",
        "절대값을 구하는 함수.\n",
        "\n",
        "**\"absolute value\"**"
      ],
      "metadata": {
        "id": "arWdbOiadxtK"
      }
    },
    {
      "cell_type": "code",
      "source": [
        "a = abs(3)\n",
        "b = abs(-3)\n",
        "c = abs(3.5)\n",
        "d = abs(-3.5)\n",
        "print(a, b)\n",
        "print(c, d)"
      ],
      "metadata": {
        "colab": {
          "base_uri": "https://localhost:8080/"
        },
        "id": "s0jgM9XReNxy",
        "outputId": "d8d2961e-2d01-4d6a-9462-b38001dcbafe"
      },
      "execution_count": 3,
      "outputs": [
        {
          "output_type": "stream",
          "name": "stdout",
          "text": [
            "3 3\n",
            "3.5 3.5\n"
          ]
        }
      ]
    },
    {
      "cell_type": "markdown",
      "source": [
        "**2) round()**\n",
        "\n",
        "반올림 수행 함수.\n",
        "\n",
        "ex) 3.4 -> 3 / 3.6 -> 4"
      ],
      "metadata": {
        "id": "DMdSj7ApenFt"
      }
    },
    {
      "cell_type": "code",
      "source": [
        "print(round(3.4), round(3.5), round(3.7))\n",
        "\n",
        "num=41.545\n",
        "print(round(num))\n",
        "print(round(num, 1))\n",
        "print(round(num, 2))\n",
        "print(round(num, -1))\n",
        "\n",
        "print(round(45.3241, -1))"
      ],
      "metadata": {
        "colab": {
          "base_uri": "https://localhost:8080/"
        },
        "id": "qAiSk2Aje0Dx",
        "outputId": "d6fad984-98ae-4496-ecb1-31c56b05862b"
      },
      "execution_count": 12,
      "outputs": [
        {
          "output_type": "stream",
          "name": "stdout",
          "text": [
            "3 4 4\n",
            "42\n",
            "41.5\n",
            "41.55\n",
            "40.0\n",
            "50.0\n"
          ]
        }
      ]
    },
    {
      "cell_type": "markdown",
      "source": [
        "**3) len()**\n",
        "\n",
        "괄호 안에 입력된 값의 길이, 개수를 계산."
      ],
      "metadata": {
        "id": "fep93r0If6tx"
      }
    },
    {
      "cell_type": "code",
      "source": [
        "s = \"python\"\n",
        "nums = [1, 2, 3, 4]\n",
        "ss = [\"name\", \"number\"]\n",
        "\n",
        "print(len(s))\n",
        "print(len(nums))\n",
        "print(len(ss))"
      ],
      "metadata": {
        "colab": {
          "base_uri": "https://localhost:8080/"
        },
        "id": "uvGSRsQ4gD9X",
        "outputId": "220c9286-cf0c-473d-c2a2-b73d529eefde"
      },
      "execution_count": 15,
      "outputs": [
        {
          "output_type": "stream",
          "name": "stdout",
          "text": [
            "6\n",
            "4\n",
            "2\n"
          ]
        }
      ]
    },
    {
      "cell_type": "markdown",
      "source": [
        "**4) sum()**\n",
        "\n",
        "괄호 안에 입력된 리스트의 합."
      ],
      "metadata": {
        "id": "XJnRsOlzgqOZ"
      }
    },
    {
      "cell_type": "code",
      "source": [
        "nums = [1, 2, 3.2, 4]\n",
        "ss = [\"name\", \"number\"]\n",
        "\n",
        "print(sum(nums))\n",
        "print(sum(nums, 100))"
      ],
      "metadata": {
        "colab": {
          "base_uri": "https://localhost:8080/"
        },
        "id": "CDGISiW7gy7o",
        "outputId": "da6895d1-8d29-474f-d5c7-828e71a879ee"
      },
      "execution_count": 21,
      "outputs": [
        {
          "output_type": "stream",
          "name": "stdout",
          "text": [
            "10.2\n",
            "110.2\n"
          ]
        }
      ]
    },
    {
      "cell_type": "markdown",
      "source": [
        "**5) max() / min()**\n",
        "\n",
        "주어진 값들 중 **최댓값 / 최솟값** 구하기.\n",
        "\n",
        "문자열의 경우, 사전순서 기준으로 **가장 뒤에 배열된 문자열 / 가장 앞에 배열된 문자열**을 출력."
      ],
      "metadata": {
        "id": "XYIZXv-OhhGG"
      }
    },
    {
      "cell_type": "code",
      "source": [
        "nums = [1, 2, 3, 4]\n",
        "ss = [\"apple\", \"orange\", \"grape\"]\n",
        "\n",
        "print(max(nums))\n",
        "print(min(nums))\n",
        "print(max(ss))\n",
        "print(min(ss))"
      ],
      "metadata": {
        "colab": {
          "base_uri": "https://localhost:8080/"
        },
        "id": "YwQdSLUehtR-",
        "outputId": "2b753660-2ec7-465d-c439-d96df6aa5bd7"
      },
      "execution_count": 25,
      "outputs": [
        {
          "output_type": "stream",
          "name": "stdout",
          "text": [
            "4\n",
            "1\n",
            "orange\n",
            "apple\n"
          ]
        }
      ]
    },
    {
      "cell_type": "markdown",
      "source": [
        "**6) sorted()**\n",
        "\n",
        "숫자 크기 순서대로 정렬해주는 함수\n",
        "\n",
        "문자열의 경우, 사전순서대로 정렬"
      ],
      "metadata": {
        "id": "_jtE5FMqivWg"
      }
    },
    {
      "cell_type": "code",
      "source": [
        "nums = [10, 20, 30, 100, 1, 2, 3]\n",
        "ss = [\"apple\", \"orange\", \"grape\"]\n",
        "\n",
        "print(sorted(nums))\n",
        "print(sorted(ss))"
      ],
      "metadata": {
        "colab": {
          "base_uri": "https://localhost:8080/"
        },
        "id": "sYlYHxtbi-Lj",
        "outputId": "7a272494-75f0-41d9-cb27-8509f0be5103"
      },
      "execution_count": 30,
      "outputs": [
        {
          "output_type": "stream",
          "name": "stdout",
          "text": [
            "[1, 2, 3, 10, 20, 30, 100]\n",
            "['apple', 'grape', 'orange']\n"
          ]
        }
      ]
    },
    {
      "cell_type": "code",
      "source": [
        "nums = [1, -2, 5, -10]\n",
        "ss = [\"apple\", \"orange\", \"grape\"]\n",
        "\n",
        "print(sorted(nums))\n",
        "print(sorted(nums, key = abs))\n",
        "print(sorted(nums, reverse = True))\n",
        "print(sorted(ss, reverse = True))"
      ],
      "metadata": {
        "colab": {
          "base_uri": "https://localhost:8080/"
        },
        "id": "Kb_kmS4mjdvB",
        "outputId": "ebc90b6d-5bf0-4442-e0db-1dc42568c00a"
      },
      "execution_count": 35,
      "outputs": [
        {
          "output_type": "stream",
          "name": "stdout",
          "text": [
            "[-10, -2, 1, 5]\n",
            "[1, -2, 5, -10]\n",
            "[5, 1, -2, -10]\n",
            "['orange', 'grape', 'apple']\n"
          ]
        }
      ]
    },
    {
      "cell_type": "markdown",
      "source": [
        "**7) split()**\n",
        "\n",
        "문자열을 일정 기준으로 나누어 리스트에 담는다.\n",
        "\n",
        "[Rules]\n",
        "\n",
        "*   괄호 안이 공백인 경우, 띄어쓰기 기준으로 나눈다.\n",
        "*   괄호 안에 특정 문자를 넣는 경우, 해당 문자를 기준으로 나눈다.\n",
        "\n",
        "*   괄호 안에 콤마(,)를 넣고 두번째 자리는 split하는 횟수를 뜻한다. 숫자를 써넣으면 해당 숫자만큼만 split한다."
      ],
      "metadata": {
        "id": "2d-87qE_j_G9"
      }
    },
    {
      "cell_type": "code",
      "source": [
        "s = \"It is Python!\"\n",
        "print(s.split())\n",
        "\n",
        "ss = \"It is Python !\"\n",
        "print(ss.split())\n",
        "\n",
        "sss = \"It, is Python!\"\n",
        "print(sss.split(\",\"))"
      ],
      "metadata": {
        "colab": {
          "base_uri": "https://localhost:8080/"
        },
        "id": "LdolNO2skGES",
        "outputId": "afa9ecfc-96da-461c-f4ec-92b2222b188b"
      },
      "execution_count": 38,
      "outputs": [
        {
          "output_type": "stream",
          "name": "stdout",
          "text": [
            "['It', 'is', 'Python!']\n",
            "['It', 'is', 'Python', '!']\n",
            "['It', ' is Python!']\n"
          ]
        }
      ]
    },
    {
      "cell_type": "code",
      "source": [
        "s = \"orange, apple, grape\"\n",
        "print(s.split(\",\", 1))"
      ],
      "metadata": {
        "colab": {
          "base_uri": "https://localhost:8080/"
        },
        "id": "uJLzuToqk3HO",
        "outputId": "b854334e-e802-407b-da1c-4408a602d89d"
      },
      "execution_count": 41,
      "outputs": [
        {
          "output_type": "stream",
          "name": "stdout",
          "text": [
            "['orange', ' apple, grape']\n"
          ]
        }
      ]
    },
    {
      "cell_type": "markdown",
      "source": [
        "**8) append(), index(), remove(), pop()**\n",
        "\n",
        "*   append() : 리스트에 요소 추가\n",
        "*   index() : 리스트 안의 요소의 위치 찾기\n",
        "*   pop() : 리스트 안에서 입력 숫자 인덱스의 요소를 결과로 내보내고, 리스트 안에 있는 해당 인덱스를 제거\n",
        "*   remove() : 리스트 안의 요소를 제거"
      ],
      "metadata": {
        "id": "G1_Bug78lnkl"
      }
    },
    {
      "cell_type": "code",
      "source": [
        "words = [\"orange\", \"apple\", \"grape\"]\n",
        "print(words)\n",
        "words.append(\"banana\")\n",
        "print(words)"
      ],
      "metadata": {
        "colab": {
          "base_uri": "https://localhost:8080/"
        },
        "id": "PtJbgdvjly4u",
        "outputId": "d4dbb5f4-b19c-4dd8-a85e-9bd119dd035e"
      },
      "execution_count": 45,
      "outputs": [
        {
          "output_type": "stream",
          "name": "stdout",
          "text": [
            "['orange', 'apple', 'grape']\n",
            "['orange', 'apple', 'grape', 'banana']\n"
          ]
        }
      ]
    },
    {
      "cell_type": "code",
      "source": [
        "words = [\"orange\", \"apple\", \"grape\"]\n",
        "idx1 = words.index(\"apple\")\n",
        "print(idx1)\n",
        "print(words.index(\"grape\"))\n",
        "\n",
        "nums = [8, 5, 3, 0, 1, 3]\n",
        "idx2 = nums.index(3, 0, 4)\n",
        "print(idx2)\n",
        "idx3 = nums.index(3, 3)\n",
        "print(idx3)"
      ],
      "metadata": {
        "colab": {
          "base_uri": "https://localhost:8080/"
        },
        "id": "PnYquQMCmg7o",
        "outputId": "ea13deae-8c21-4b65-bafe-39631f0ebc45"
      },
      "execution_count": 51,
      "outputs": [
        {
          "output_type": "stream",
          "name": "stdout",
          "text": [
            "1\n",
            "2\n",
            "2\n",
            "5\n"
          ]
        }
      ]
    },
    {
      "cell_type": "code",
      "source": [
        "words = [\"orange\", \"apple\", \"grape\"]\n",
        "print(words)\n",
        "fruit = words.pop(1)\n",
        "print(fruit)\n",
        "print(words)"
      ],
      "metadata": {
        "colab": {
          "base_uri": "https://localhost:8080/"
        },
        "id": "WDPlWBtpneUq",
        "outputId": "60e6f68e-6df9-42d4-b880-711022754539"
      },
      "execution_count": 53,
      "outputs": [
        {
          "output_type": "stream",
          "name": "stdout",
          "text": [
            "['orange', 'apple', 'grape']\n",
            "apple\n",
            "['orange', 'grape']\n"
          ]
        }
      ]
    },
    {
      "cell_type": "code",
      "source": [
        "words = [\"orange\", \"apple\", \"grape\"]\n",
        "print(words)\n",
        "fruit = words.pop()\n",
        "print(fruit)\n",
        "print(words)"
      ],
      "metadata": {
        "colab": {
          "base_uri": "https://localhost:8080/"
        },
        "id": "HoFaJrU7n9LX",
        "outputId": "e61689da-da94-4089-b755-7a08dd9c92d0"
      },
      "execution_count": 54,
      "outputs": [
        {
          "output_type": "stream",
          "name": "stdout",
          "text": [
            "['orange', 'apple', 'grape']\n",
            "grape\n",
            "['orange', 'apple']\n"
          ]
        }
      ]
    },
    {
      "cell_type": "code",
      "source": [
        "words = [\"orange\", \"apple\", \"grape\"]\n",
        "print(words)\n",
        "words.remove(\"apple\")\n",
        "print(words)\n",
        "\n",
        "nums = [8, 5, 3, 0, 2, 3]\n",
        "print(nums)\n",
        "nums.remove(3)\n",
        "print(nums)"
      ],
      "metadata": {
        "colab": {
          "base_uri": "https://localhost:8080/"
        },
        "id": "CVZ-CubloP56",
        "outputId": "d613f5fb-e12d-4bf9-e734-24e44b6ca5fb"
      },
      "execution_count": 59,
      "outputs": [
        {
          "output_type": "stream",
          "name": "stdout",
          "text": [
            "['orange', 'apple', 'grape']\n",
            "['orange', 'grape']\n",
            "[8, 5, 3, 0, 2, 3]\n",
            "[8, 5, 0, 2, 3]\n"
          ]
        }
      ]
    }
  ]
}