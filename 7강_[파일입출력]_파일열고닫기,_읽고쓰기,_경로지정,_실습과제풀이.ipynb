{
  "nbformat": 4,
  "nbformat_minor": 0,
  "metadata": {
    "colab": {
      "provenance": [],
      "authorship_tag": "ABX9TyPExOWLKoMMBo0x3PW+V8/+",
      "include_colab_link": true
    },
    "kernelspec": {
      "name": "python3",
      "display_name": "Python 3"
    },
    "language_info": {
      "name": "python"
    }
  },
  "cells": [
    {
      "cell_type": "markdown",
      "metadata": {
        "id": "view-in-github",
        "colab_type": "text"
      },
      "source": [
        "<a href=\"https://colab.research.google.com/github/YunhyeongKang/Basic_Grammar/blob/Python/7%EA%B0%95_%5B%ED%8C%8C%EC%9D%BC%EC%9E%85%EC%B6%9C%EB%A0%A5%5D_%ED%8C%8C%EC%9D%BC%EC%97%B4%EA%B3%A0%EB%8B%AB%EA%B8%B0%2C_%EC%9D%BD%EA%B3%A0%EC%93%B0%EA%B8%B0%2C_%EA%B2%BD%EB%A1%9C%EC%A7%80%EC%A0%95%2C_%EC%8B%A4%EC%8A%B5%EA%B3%BC%EC%A0%9C%ED%92%80%EC%9D%B4.ipynb\" target=\"_parent\"><img src=\"https://colab.research.google.com/assets/colab-badge.svg\" alt=\"Open In Colab\"/></a>"
      ]
    },
    {
      "cell_type": "markdown",
      "source": [
        "# **14. 파일입출력**\n",
        "\n",
        "원래는 내 PC에 접근가능하나, Colab 환경은 온라인 상에서의 개발환경이기 때문에 내 컴퓨터 접근이 아닌, Colab경로상(Google Drive)에서 접근함.\n",
        "\n",
        "**[drive 경로와 연결]**\n",
        "\n",
        "\"mount해준다\"라고도 한다.\n",
        "\n",
        "mount할 경로는 /content/gdrive 이다."
      ],
      "metadata": {
        "id": "AA7tvt8dkq2d"
      }
    },
    {
      "cell_type": "code",
      "source": [
        "from google.colab import drive\n",
        "drive.mount('/content/gdrive')"
      ],
      "metadata": {
        "colab": {
          "base_uri": "https://localhost:8080/"
        },
        "id": "Uc_R3LlEmAp8",
        "outputId": "b6f824a3-b31a-411d-de67-4ab94deba095"
      },
      "execution_count": 2,
      "outputs": [
        {
          "output_type": "stream",
          "name": "stdout",
          "text": [
            "Mounted at /content/gdrive\n"
          ]
        }
      ]
    },
    {
      "cell_type": "markdown",
      "source": [
        "**[파일 연결]**\n",
        "\n",
        "원하는 파일을 마우스 우클릭을 통해 '경로 복사' 해준 후, 파일을 연결해준다.\n",
        "\n",
        "**[파일 열기]**\n",
        "\n",
        "open() 함수를 이용하여 파일을 열어준다.\n",
        "\n",
        "*   mode \"r\" : 파일을 **읽기** 위한 모드 / 모드를 따로 설정하지 않은 시 기본으로 \"r\"모드로 실행됨.\n",
        "*   mode \"w\" : 파일을 **쓰기** 위한 모드 / 파일을 새로 생성할 때, 동일한 이름의 파일이 이미 존재할 경우 해당 파일은 **삭제하고 새로 생성**됨.\n",
        "*   mode \"a\" : 기존의 파일 내용에 **추가**하는 모드 / 파일이 없다면 새로 생성하고, 이미 존재하는 파일이 있으면 기존의 내용 뒤에 새로운 내용을 추가함.\n",
        "*   mode \"x\" : 파일을 배타적으로 쓰기 위한 모드 / \"w\"와 같이 **쓰기** 위한 모드이나, 동일한 이름의 파일이 이미 존재하면 **에러**가 발생함.\n",
        "*   mode \"t\" : \"rt\", \"wt\"와 같이 각 모드의 뒤에 추가하여 사용하며, 파일을 **텍스트 데이터로 읽거나 쓰는 모드** / 기본적으로 \"t\"로 실행하므로 명시하지 않아도 \"t\"모드를 사용함.\n",
        "*   mode \"b\" : \"rb\", \"wb\"와 같이 각 모드의 뒤에 추가하여 사용하며, 파일을 **이진 데이터로 읽거나 쓰는 모드**\n",
        "*   mode \"+\" : \"r+\"와 같이 각 모드의 뒤에 추가하여 사용하며, 파일을 읽거나 쓰는 한 가지 모드가 아닌, **동시에 읽기와 쓰기를 모두 수행**할 수 있는 모드\n",
        "\n",
        "**[파일 닫기]**\n",
        "\n",
        "close() 함수를 이용\n",
        "\n",
        "**[파일 읽기]**\n",
        "\n",
        "read() 함수를 이용\n",
        "\n",
        "**[파일 쓰기]**\n",
        "\n",
        "write() 함수를 이용"
      ],
      "metadata": {
        "id": "t7YgmZMfnFLU"
      }
    },
    {
      "cell_type": "code",
      "source": [
        "file_path = \"/content/gdrive/MyDrive/Colab Notebooks/my_file\"\n",
        "\n",
        "file = open(file_path, \"r\")\n",
        "\n",
        "text = file.read()\n",
        "print(text)\n",
        "\n",
        "text_lines = text.split(\"\\n\")\n",
        "print(text_lines)"
      ],
      "metadata": {
        "colab": {
          "base_uri": "https://localhost:8080/"
        },
        "id": "0-6eoRvHnPdp",
        "outputId": "b643851b-7262-461c-8054-7492ec052d86"
      },
      "execution_count": 19,
      "outputs": [
        {
          "output_type": "stream",
          "name": "stdout",
          "text": [
            "banana, 2000\n",
            "apple, 1500\n",
            "grape, 3000\n",
            "['banana, 2000', 'apple, 1500', 'grape, 3000']\n"
          ]
        }
      ]
    },
    {
      "cell_type": "code",
      "source": [
        "file_path = \"/content/gdrive/MyDrive/Colab Notebooks/my_file2\"\n",
        "\n",
        "file = open(file_path, \"w\")\n",
        "file.write(\"orange\\n\")\n",
        "file.write(\"melon\")"
      ],
      "metadata": {
        "colab": {
          "base_uri": "https://localhost:8080/"
        },
        "id": "ABvjAW0xmX9V",
        "outputId": "eb6d564c-9244-47a9-cfb5-06899acba8fe"
      },
      "execution_count": 23,
      "outputs": [
        {
          "output_type": "execute_result",
          "data": {
            "text/plain": [
              "5"
            ]
          },
          "metadata": {},
          "execution_count": 23
        }
      ]
    },
    {
      "cell_type": "code",
      "source": [
        "file_path = \"/content/gdrive/MyDrive/Colab Notebooks/my_file2\"\n",
        "\n",
        "file = open(file_path, \"a\")\n",
        "file.write(\"\\nbanana\\napple\")"
      ],
      "metadata": {
        "colab": {
          "base_uri": "https://localhost:8080/"
        },
        "id": "1BsZgb25ro_3",
        "outputId": "d2014f0b-0c35-4a45-d897-58e96281122e"
      },
      "execution_count": 25,
      "outputs": [
        {
          "output_type": "execute_result",
          "data": {
            "text/plain": [
              "13"
            ]
          },
          "metadata": {},
          "execution_count": 25
        }
      ]
    },
    {
      "cell_type": "markdown",
      "source": [
        "# **직접해보기**\n",
        "\n",
        "아래의 코드는 names_price.txt 파일의 내용을 바탕으로 price를 1000으로 나눈 값을 names_price_k.txt에 저장하는 과정을 나타낸 것이다. 아래의 코드는 names_price.txt에 빈 줄이 있는 등의 이유로 에러가 발생하는 코드이다. 아래의 문제들을 해결하여 에러 코드를 교정해보자.\n",
        "\n",
        "--------------------------------------------------------------------------------\n",
        "\n",
        "names_price.txt\n",
        "\n",
        "banana, 2000\n",
        "\n",
        "apple, 1500\n",
        "\n",
        "-\n",
        "\n",
        "grape, 3000\n",
        "\n",
        "--------------------------------------------------------------------------------"
      ],
      "metadata": {
        "id": "tA0mZYOHsPMK"
      }
    },
    {
      "cell_type": "code",
      "source": [
        "file_path = \"/content/gdrive/MyDrive/Colab Notebooks/names_price.txt\"\n",
        "file = open(file_path, \"r\")\n",
        "text = file.read()\n",
        "lines = text.split(\"\\n\")\n",
        "file.close()\n",
        "\n",
        "lines.pop(2)\n",
        "\n",
        "name0 = lines[0].split(\",\")[0]\n",
        "name1 = lines[1].split(\",\")[0]\n",
        "name2 = lines[2].split(\",\")[0]\n",
        "names = [name0, name1, name2]\n",
        "price0 = lines[0].split(\",\")[1]\n",
        "price1 = lines[1].split(\",\")[1]\n",
        "price2 = lines[2].split(\",\")[1]\n",
        "prices = [price0, price1, price2]\n",
        "\n",
        "file = open(\"name_price_k.txt\",\"w\")\n",
        "prices[0] = int(prices[0]) / 1000\n",
        "prices[1] = int(prices[1]) / 1000\n",
        "prices[2] = int(prices[2]) / 1000\n",
        "file.write(\"{}, {}k\\n\".format(names[0], prices[0]))\n",
        "file.write(\"{}, {}k\\n\".format(names[1], prices[1]))\n",
        "file.write(\"{}, {}k\\n\".format(names[2], prices[2]))\n",
        "file.close()"
      ],
      "metadata": {
        "id": "sGQmE25auXQE"
      },
      "execution_count": 37,
      "outputs": []
    }
  ]
}